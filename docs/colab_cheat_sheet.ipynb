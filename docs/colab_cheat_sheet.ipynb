{
  "nbformat": 4,
  "nbformat_minor": 0,
  "metadata": {
    "colab": {
      "private_outputs": true,
      "provenance": [],
      "toc_visible": true,
      "authorship_tag": "ABX9TyN+CXMqer0cXw5L4DHZLDI3",
      "include_colab_link": true
    },
    "kernelspec": {
      "name": "python3",
      "display_name": "Python 3"
    },
    "language_info": {
      "name": "python"
    }
  },
  "cells": [
    {
      "cell_type": "markdown",
      "metadata": {
        "id": "view-in-github",
        "colab_type": "text"
      },
      "source": [
        "<a href=\"https://colab.research.google.com/github/hypo69/selenium_examples/blob/master/docs/colab_cheat_sheet.ipynb\" target=\"_parent\"><img src=\"https://colab.research.google.com/assets/colab-badge.svg\" alt=\"Open In Colab\"/></a>"
      ]
    },
    {
      "cell_type": "code",
      "execution_count": null,
      "metadata": {
        "id": "TEkHpmsPhdGE"
      },
      "outputs": [],
      "source": []
    },
    {
      "cell_type": "markdown",
      "source": [
        "# Jupyter Notebook: Руководство по использованию интерактивной среды для анализа данных, машинного обучения и не только\n",
        "\n",
        "\n",
        "## Что такое Jupyter Notebook?\n",
        "\n",
        "Jupyter Notebook — это **веб-приложение с открытым исходным кодом**, которое позволяет создавать интерактивные документы, объединяющие код (например, Python, R, Julia), визуализации, текст и мультимедиа. Изначально проект назывался *IPython Notebook* и был создан в 2014 году как часть экосистемы Python. Сегодня Jupyter поддерживает **более 40 языков программирования**, а его название образовано от комбинации **Ju**lia, **Pyt**hon и **R**.\n",
        "\n",
        "### Ключевые особенности:\n",
        "- **Интерактивное выполнение кода** по ячейкам.\n",
        "- Поддержка **Markdown** и **LaTeX** для документации.\n",
        "- Визуализация данных прямо в документе (графики, таблицы, анимации).\n",
        "- Экспорт в форматы HTML, PDF, LaTeX, презентации.\n",
        "- **Виджеты** для создания интерактивных интерфейсов.\n",
        "- Интеграция с облачными сервисами и инструментами Big Data.\n",
        "\n",
        "---\n",
        "\n",
        "## Установка и настройка\n",
        "\n",
        "1. **Установка через pip** (требуется Python 3.3+):\n",
        "   ```bash\n",
        "   pip install jupyter\n",
        "   ```\n",
        "\n",
        "2. **Запуск сервера**:\n",
        "   ```bash\n",
        "   jupyter notebook\n",
        "   ```\n",
        "   После этого в браузере откроется интерфейс Jupyter на `http://localhost:8888`.\n",
        "\n",
        "3. **Jupyter Lab** (расширенная версия):\n",
        "   ```bash\n",
        "   pip install jupyterlab\n",
        "   jupyter lab\n",
        "   ```\n",
        "\n",
        "---\n"
      ],
      "metadata": {
        "id": "CSwrTt2ahxAQ"
      }
    },
    {
      "cell_type": "markdown",
      "source": [
        "## Интерфейс и базовое использование\n",
        "\n",
        "### Основные элементы:\n",
        "1. **Панель управления** (Dashboard): список файлов и директорий.\n",
        "2. **Блокнот (Notebook)**: состоит из ячеек двух типов:\n",
        "   - **Code** — для написания кода.\n",
        "   - **Markdown** — для текста, формул, изображений.\n",
        "\n",
        "### Горячие клавиши:\n",
        "- **Shift + Enter** — выполнить ячейку.\n",
        "- **Esc + A/B** — добавить ячейку выше/ниже.\n",
        "- **Esc + M/Y** — сменить тип ячейки на Markdown/Code.\n",
        "\n",
        "### Горячие клавиши (в Colab):\n",
        "\n",
        "*   **Ctrl+Enter** (или **Shift+Enter**): Выполнить ячейку и перейти к следующей.\n",
        "*   **Ctrl+M A**: Вставить ячейку выше текущей.\n",
        "*   **Ctrl+M B**: Вставить ячейку ниже текущей.\n",
        "*   **Ctrl+M M**: Преобразовать ячейку в Markdown.\n",
        "*   **Ctrl+M Y**: Преобразовать ячейку в Code.\n",
        "*   **Ctrl+M D**: Удалить ячейку.\n"
      ],
      "metadata": {
        "id": "VpGAa8GPiPYt"
      }
    },
    {
      "cell_type": "markdown",
      "source": [
        "## Примеры использования"
      ],
      "metadata": {
        "id": "3f_XG38HiYvl"
      }
    },
    {
      "cell_type": "markdown",
      "source": [
        "## 1. Анализ данных о пассажирах Титаника с Pandas и Seaborn\n"
      ],
      "metadata": {
        "id": "H6QkdxATiePj"
      }
    },
    {
      "cell_type": "markdown",
      "source": [
        "### Поля таблицы данных о пассажирах Титаника\n",
        "---\n",
        "#### **PassengerId**: Уникальный идентификатор для каждого пассажира. Это просто номер пассажира в базе данных.\n",
        "#### **Survived**: Указывает, выжил пассажир (1) или нет (0).\n",
        "- 0: Пассажир погиб.\n",
        "- 1: Пассажир выжил.\n",
        "\n",
        "#### **Pclass**: Класс билета пассажира. Обычно это соответствует уровню комфорта и расположению каюты.\n",
        "- 1: Первый класс (самый дорогой и комфортный).\n",
        "- 2: Второй класс.\n",
        "- 3: Третий класс (самый дешевый).\n",
        "\n",
        "#### **Name**: Имя пассажира (включая звание, например, Mr., Mrs., Miss.).\n",
        "### **Sex**: Пол пассажира (male - мужской, female - женский).\n",
        "### **Age**: Возраст пассажира в годах. Обратите внимание, что в реальных данных часто бывают пропущенные значения возраста (NaN).\n",
        "#### **SibSp**: Количество братьев/сестер (siblings) и супругов (spouses) на борту судна.\n",
        "#### **Parch**: Количество родителей (parents) и детей (children) на борту судна.\n",
        "#### **Ticket**: Номер билета пассажира.\n",
        "#### **Fare**: Стоимость билета пассажира (в британских фунтах того времени).\n",
        "#### **Cabin**: Номер каюты пассажира (если известен). Многие значения пропущены.\n",
        "#### **Embarked**: Порт, в котором пассажир сел на корабль.\n",
        "- C: Cherbourg (Шербур, Франция).\n",
        "- Q: Queenstown (Квинстаун, Ирландия).\n",
        "- S: Southampton (Саутгемптон, Англия)."
      ],
      "metadata": {
        "id": "uodw9xIsvc4V"
      }
    },
    {
      "cell_type": "markdown",
      "source": [
        "### Загузка данных"
      ],
      "metadata": {
        "id": "S4miAIfR3EhE"
      }
    },
    {
      "cell_type": "code",
      "source": [
        "import pandas as pd\n",
        "import seaborn as sns\n",
        "import matplotlib.pyplot as plt\n",
        "\n",
        "# Загрузка данных с GitHub\n",
        "url = 'https://raw.githubusercontent.com/datasciencedojo/datasets/master/titanic.csv'\n",
        "titanic_df = pd.read_csv(url)\n",
        "\n",
        "# Вывод первых строк таблицы\n",
        "print(\"Первые 5 строк данных:\")\n",
        "print(titanic_df.head())"
      ],
      "metadata": {
        "id": "eYZagpqaiLUF"
      },
      "execution_count": null,
      "outputs": []
    },
    {
      "cell_type": "markdown",
      "source": [
        "### Основная статистика"
      ],
      "metadata": {
        "id": "Ig6kX0Lv3OQc"
      }
    },
    {
      "cell_type": "code",
      "source": [
        "# Основная статистика\n",
        "print(\"\\nОписательная статистика:\")\n",
        "print(titanic_df.describe())\n"
      ],
      "metadata": {
        "id": "_L6Kpf3LraAI"
      },
      "execution_count": null,
      "outputs": []
    },
    {
      "cell_type": "markdown",
      "source": [
        "### Визуализация распределения выживших"
      ],
      "metadata": {
        "id": "VdIXqMtw3S_v"
      }
    },
    {
      "cell_type": "markdown",
      "source": [],
      "metadata": {
        "id": "VxT6txVZ3S8F"
      }
    },
    {
      "cell_type": "markdown",
      "source": [],
      "metadata": {
        "id": "ZA-Sjhb-3Rr5"
      }
    },
    {
      "cell_type": "code",
      "source": [
        "# Визуализация распределения выживших\n",
        "sns.countplot(x='Survived', data=titanic_df)\n",
        "plt.title('Распределение выживших')\n",
        "plt.show()\n"
      ],
      "metadata": {
        "id": "gWRaaeSXzOkd"
      },
      "execution_count": null,
      "outputs": []
    },
    {
      "cell_type": "markdown",
      "source": [
        "### Зависимость выживания от класса билета"
      ],
      "metadata": {
        "id": "oLGaRrRp3Xpx"
      }
    },
    {
      "cell_type": "code",
      "source": [
        "# Зависимость выживания от класса билета\n",
        "\n",
        "# x='Pclass': Этот аргумент указывает, что значения столбца Pclass (класс билета) будут отображены на оси X. Pclass принимает значения 1, 2 или 3 (первый, второй и третий класс, соответственно).\n",
        "# hue='Survived': hue добавляет еще одно измерение к графику. Он группирует столбцы по значению столбца Survived (выжил или нет). В результате, для каждого класса билета (Pclass) будет два столбца: один для тех, кто выжил (1), и один для тех, кто не выжил (0). Эти столбцы будут отличаться по цвету.\n",
        "# data=titanic_df: Этот аргумент указывает, что данные для графика берутся из DataFrame с именем titanic_df.\n",
        "\n",
        "sns.countplot(x='Pclass', hue='Survived', data=titanic_df)\n",
        "plt.title('Выживаемость по классам билетов')\n",
        "plt.show()\n"
      ],
      "metadata": {
        "id": "pgYE-rm8zRCB"
      },
      "execution_count": null,
      "outputs": []
    },
    {
      "cell_type": "markdown",
      "source": [
        "### Гистограмма возраста"
      ],
      "metadata": {
        "id": "CajzAd9t3a-k"
      }
    },
    {
      "cell_type": "code",
      "source": [
        "# Гистограмма возраста\n",
        "sns.histplot(titanic_df['Age'].dropna(), kde=True) # Dropna чтобы избавиться от отсутствующих значений\n",
        "\n",
        "\"\"\"kde=True: аргумент функции sns.histplot указывает, что на гистограмме должна быть нарисована линия оценки плотности ядра\n",
        "(Kernel Density Estimate - KDE). KDE - это сглаженная кривая, которая аппроксимирует распределение данных.\n",
        "Она помогает визуально оценить форму распределения, особенно если данные не идеально соответствуют какой-либо известной форме,\n",
        "например, нормальному распределению)\n",
        "\"\"\"\n",
        "\n",
        "plt.title('Распределение возраста пассажиров')\n",
        "plt.show()"
      ],
      "metadata": {
        "id": "oQU-Us0AzTDg"
      },
      "execution_count": null,
      "outputs": []
    },
    {
      "cell_type": "markdown",
      "source": [
        "## Рассмотрим другой набор данных.\n",
        "Будем использовать набор данных \"Diamonds\", который содержит информацию о бриллиантах\n",
        "(размер, цвет, чистота, цена и т.д.). Этот набор данных доступен в библиотеке Seaborn."
      ],
      "metadata": {
        "id": "sYZT_hm_2-hw"
      }
    },
    {
      "cell_type": "markdown",
      "source": [
        "### Объяснение колонок:\n",
        "- **carat**: Вес бриллианта в каратах.\n",
        "- **cut**: Качество огранки (Fair, Good, Very Good, Premium, Ideal).\n",
        "- **color**: Цвет бриллианта (от J - наименее желательный, до D - бесцветный и самый желательный).\n",
        "- **clarity**: Чистота бриллианта.  \n",
        "(мера отсутствия включений и пятен, от I1 - худшая, до IF - безупречная).\n",
        "- **depth**: Общая высота бриллианта (измеряется от верха до калетты) деленная на средний диаметр.\n",
        "- **table**: Ширина верхней плоской грани бриллианта относительно его ширины.\n",
        "- **price**: Цена бриллианта в долларах США.\n",
        "- **x**: Длина в мм.\n",
        "- **y**: Ширина в мм.\n",
        "- **y**: Ширина в мм.\n",
        "- **z**: Глубина в мм.\n",
        "\n"
      ],
      "metadata": {
        "id": "jbejMi1b4DKb"
      }
    },
    {
      "cell_type": "markdown",
      "source": [
        "### Код"
      ],
      "metadata": {
        "id": "BiyR_1Bf52gt"
      }
    },
    {
      "cell_type": "code",
      "source": [
        "import seaborn as sns\n",
        "import pandas as pd\n",
        "\n",
        "# Загрузка набора данных Diamonds\n",
        "diamonds = sns.load_dataset('diamonds')\n",
        "\n",
        "# Вывод первых 5 строк\n",
        "print(\"Первые 5 строк данных:\")\n",
        "print(diamonds.head())\n",
        "\n",
        "# Информация о типах данных и пропущенных значениях\n",
        "print(\"\\nИнформация о типах данных и пропущенных значениях:\")\n",
        "print(diamonds.info())\n",
        "\n",
        "# Описательная статистика\n",
        "print(\"\\nОписательная статистика:\")\n",
        "print(diamonds.describe())"
      ],
      "metadata": {
        "id": "rTbFEVyazUCG"
      },
      "execution_count": null,
      "outputs": []
    },
    {
      "cell_type": "code",
      "source": [
        "# 1. Фильтрация: Выбор бриллиантов с ценой больше 5000 долларов\n",
        "expensive_diamonds = diamonds[diamonds['price'] > 5000]\n",
        "print(\"\\nБриллианты с ценой больше 5000 долларов:\")\n",
        "print(expensive_diamonds.head())\n"
      ],
      "metadata": {
        "id": "i1r9T6qa3x_b"
      },
      "execution_count": null,
      "outputs": []
    },
    {
      "cell_type": "code",
      "source": [
        "# 2. Группировка: Средняя цена бриллиантов по качеству огранки\n",
        "\n",
        "# Группировка: Средняя цена бриллиантов по качеству огранки\n",
        "average_price_by_cut = diamonds.groupby('cut')['price'].mean()\n",
        "print(\"\\nСредняя цена бриллиантов по качеству огранки:\")\n",
        "print(average_price_by_cut)\n",
        "\n",
        "# 2.1. Столбчатая диаграмма (Bar plot)\n",
        "plt.figure(figsize=(8, 6))\n",
        "average_price_by_cut.sort_values().plot(kind='bar', color='skyblue')  # Сортировка для наглядности\n",
        "plt.title('Средняя цена бриллиантов по качеству огранки', fontsize=14)\n",
        "plt.xlabel('Качество огранки', fontsize=12)\n",
        "plt.ylabel('Средняя цена', fontsize=12)\n",
        "plt.xticks(rotation=45, ha='right')  # Поворот меток оси X\n",
        "plt.tight_layout()\n",
        "plt.show()"
      ],
      "metadata": {
        "id": "fBIt9JtQ8Rag"
      },
      "execution_count": null,
      "outputs": []
    },
    {
      "cell_type": "code",
      "source": [
        "# 2.2. Горизонтальная столбчатая диаграмма (Horizontal bar plot)\n",
        "plt.figure(figsize=(8, 6))\n",
        "average_price_by_cut.sort_values().plot(kind='barh', color='lightcoral') # Горизонтальная версия\n",
        "plt.title('Средняя цена бриллиантов по качеству огранки', fontsize=14)\n",
        "plt.xlabel('Средняя цена', fontsize=12)\n",
        "plt.ylabel('Качество огранки', fontsize=12)\n",
        "plt.tight_layout()\n",
        "plt.show()"
      ],
      "metadata": {
        "id": "qH3xroj19OiR"
      },
      "execution_count": null,
      "outputs": []
    },
    {
      "cell_type": "code",
      "source": [
        "# 2.3. Точечная диаграмма (Point plot)\n",
        "plt.figure(figsize=(8, 6))\n",
        "sns.pointplot(x=average_price_by_cut.index, y=average_price_by_cut.values, color='mediumseagreen')\n",
        "plt.title('Средняя цена бриллиантов по качеству огранки', fontsize=14)\n",
        "plt.xlabel('Качество огранки', fontsize=12)\n",
        "plt.ylabel('Средняя цена', fontsize=12)\n",
        "plt.xticks(rotation=45, ha='right')\n",
        "plt.tight_layout()\n",
        "plt.show()"
      ],
      "metadata": {
        "id": "q8P06up99Raq"
      },
      "execution_count": null,
      "outputs": []
    },
    {
      "cell_type": "code",
      "source": [
        "# 3. Создание нового столбца: Плотность бриллианта (масса/объем, приближенно)\n",
        "diamonds['density'] = diamonds['carat'] / (diamonds['x'] * diamonds['y'] * diamonds['z'])\n",
        "print(\"\\nПервые 5 строк с добавленной колонкой 'density':\")\n",
        "print(diamonds.head())"
      ],
      "metadata": {
        "id": "3P59mcbe8TZT"
      },
      "execution_count": null,
      "outputs": []
    },
    {
      "cell_type": "code",
      "source": [
        "# 4. Визуализация: Распределение цены бриллиантов\n",
        "import matplotlib.pyplot as plt\n",
        "sns.histplot(diamonds['price'])\n",
        "plt.title('Распределение цены бриллиантов')\n",
        "plt.show()"
      ],
      "metadata": {
        "id": "A0PBpDXh8VYF"
      },
      "execution_count": null,
      "outputs": []
    },
    {
      "cell_type": "code",
      "source": [
        "# 5. Гистограммы для числовых признаков\n",
        "numerical_features = ['carat', 'depth', 'table', 'price', 'x', 'y', 'z']\n",
        "plt.figure(figsize=(15, 10))\n",
        "for i, feature in enumerate(numerical_features):\n",
        "    plt.subplot(3, 3, i+1)\n",
        "    sns.histplot(diamonds[feature], kde=True)\n",
        "    plt.title(f'Распределение {feature}', fontsize=14)\n",
        "plt.tight_layout()\n",
        "plt.show()\n"
      ],
      "metadata": {
        "id": "GzItm74s7J0m"
      },
      "execution_count": null,
      "outputs": []
    },
    {
      "cell_type": "code",
      "source": [
        "# 6. Ящики с усами (Boxplots) для числовых признаков по качеству огранки (cut)\n",
        "plt.figure(figsize=(15, 10))\n",
        "for i, feature in enumerate(numerical_features):\n",
        "    plt.subplot(3, 3, i+1)\n",
        "    sns.boxplot(x='cut', y=feature, data=diamonds)\n",
        "    plt.title(f'{feature} по качеству огранки', fontsize=14)\n",
        "plt.tight_layout()\n",
        "plt.show()"
      ],
      "metadata": {
        "id": "z3iViLmF7vgA"
      },
      "execution_count": null,
      "outputs": []
    },
    {
      "cell_type": "code",
      "source": [
        "# 7. Тепловая карта корреляции\n",
        "correlation_matrix = diamonds[numerical_features].corr()\n",
        "plt.figure(figsize=(10, 8))\n",
        "sns.heatmap(correlation_matrix, annot=True, cmap='coolwarm')\n",
        "plt.title('Тепловая карта корреляции', fontsize=16)\n",
        "plt.show()"
      ],
      "metadata": {
        "id": "kQJ2I5b-73uJ"
      },
      "execution_count": null,
      "outputs": []
    },
    {
      "cell_type": "code",
      "source": [
        "# 8. Диаграммы рассеяния (Scatter plots) между ценой и другими числовыми признаками\n",
        "plt.figure(figsize=(15, 5))\n",
        "plt.subplot(1, 3, 1)\n",
        "sns.scatterplot(x='carat', y='price', data=diamonds, alpha=0.5)\n",
        "plt.title('Цена vs. Вес (carat)', fontsize=14)\n",
        "\n",
        "plt.subplot(1, 3, 2)\n",
        "sns.scatterplot(x='x', y='price', data=diamonds, alpha=0.5)\n",
        "plt.title('Цена vs. Длина (x)', fontsize=14)\n",
        "\n",
        "plt.subplot(1, 3, 3)\n",
        "sns.scatterplot(x='y', y='price', data=diamonds, alpha=0.5)\n",
        "plt.title('Цена vs. Ширина (y)', fontsize=14)\n",
        "\n",
        "plt.tight_layout()\n",
        "plt.show()"
      ],
      "metadata": {
        "id": "wv9o609J79gn"
      },
      "execution_count": null,
      "outputs": []
    },
    {
      "cell_type": "code",
      "source": [
        "# 9. Столбчатые диаграммы (Countplots) для категориальных признаков\n",
        "categorical_features = ['cut', 'color', 'clarity']\n",
        "plt.figure(figsize=(15, 5))\n",
        "for i, feature in enumerate(categorical_features):\n",
        "    plt.subplot(1, 3, i+1)\n",
        "    sns.countplot(x=feature, data=diamonds, palette='viridis')\n",
        "    plt.title(f'Распределение {feature}', fontsize=14)\n",
        "plt.tight_layout()\n",
        "plt.show()"
      ],
      "metadata": {
        "id": "dtJWyNOA8FDl"
      },
      "execution_count": null,
      "outputs": []
    },
    {
      "cell_type": "code",
      "source": [],
      "metadata": {
        "id": "8AX1Jops6EIP"
      },
      "execution_count": null,
      "outputs": []
    }
  ]
}