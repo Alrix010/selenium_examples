{
 "cells": [
  {
   "cell_type": "markdown",
   "id": "81af5182-26af-4b4e-a792-acfd72d61340",
   "metadata": {},
   "source": [
    "# Примеры интерактивности вебэлементов"
   ]
  },
  {
   "cell_type": "code",
   "execution_count": 5,
   "id": "870bb45b-4ebc-4ccb-b05d-27b51b92e518",
   "metadata": {},
   "outputs": [],
   "source": [
    "from selenium import webdriver\n",
    "from selenium.webdriver.common.by import By\n",
    "from selenium.webdriver.remote.webdriver import WebDriver\n",
    "from selenium.webdriver.remote.webelement import WebElement\n",
    "from selenium.webdriver.support.ui import Select\n",
    "from selenium.webdriver.support.ui import WebDriverWait\n",
    "from selenium.webdriver.support import expected_conditions as EC\n",
    "from selenium.webdriver.common.keys import Keys\n",
    "from typing import Optional\n",
    "import time"
   ]
  },
  {
   "cell_type": "code",
   "execution_count": 6,
   "id": "93179357-e059-4098-a30a-9aed40814c3b",
   "metadata": {},
   "outputs": [],
   "source": [
    "driver: WebDriver = webdriver.Firefox()"
   ]
  },
  {
   "cell_type": "markdown",
   "id": "49a1a582-f1cf-4bc7-b1f8-41494b578427",
   "metadata": {},
   "source": [
    "## selenium может работать с url страницы или локальным файлом"
   ]
  },
  {
   "cell_type": "code",
   "execution_count": 10,
   "id": "c1f50820-9879-4adc-a02f-be865747b220",
   "metadata": {},
   "outputs": [],
   "source": [
    "\n",
    "url: str = \"https://davidka.net/examples/selenium/example_2.html\" \n",
    "html_file_path: str = r\"file:///C:\\Users\\user\\Documents\\repos\\public_repositories\\selenium_examples\\src\\examples\\example_2\\html\\example_2.html\" \n",
    "\n",
    "driver.get(html_file_path)"
   ]
  },
  {
   "cell_type": "code",
   "execution_count": 13,
   "id": "4c71b75b-e10a-41db-b7ba-32cad299452e",
   "metadata": {},
   "outputs": [
    {
     "name": "stdout",
     "output_type": "stream",
     "text": [
      "Исходное значение поля myInput: \n",
      "Новое значение поля myInput: Новый текст, введенный Selenium\n"
     ]
    }
   ],
   "source": [
    "# 1. Взаимодействие с текстовым полем (myInput)\n",
    "input_field: WebElement = driver.find_element(By.ID, \"myInput\")\n",
    "print(f\"Исходное значение поля myInput: {input_field.get_attribute('value')}\")\n",
    "input_field.clear()\n",
    "input_field.send_keys(\"Новый текст, введенный Selenium\")\n",
    "print(f\"Новое значение поля myInput: {input_field.get_attribute('value')}\")"
   ]
  },
  {
   "cell_type": "code",
   "execution_count": 12,
   "id": "faac2ca3-3b9b-4bd6-9fec-d5079b130b60",
   "metadata": {},
   "outputs": [
    {
     "name": "stdout",
     "output_type": "stream",
     "text": [
      "Значение поля myInput после нажатия 'Очистить': \n"
     ]
    }
   ],
   "source": [
    "# Нажатие на кнопку \"Очистить\" (clearButton)\n",
    "clear_button: WebElement = driver.find_element(By.ID, \"clearButton\")\n",
    "clear_button.click()\n",
    "print(f\"Значение поля myInput после нажатия 'Очистить': {input_field.get_attribute('value')}\")"
   ]
  },
  {
   "cell_type": "code",
   "execution_count": 14,
   "id": "ea34159a-8f92-46b5-bbc7-8b1d44f9bacd",
   "metadata": {},
   "outputs": [
    {
     "name": "stdout",
     "output_type": "stream",
     "text": [
      "В поле пароля введен текст (скрытый)\n"
     ]
    }
   ],
   "source": [
    "# 2. Взаимодействие с полем пароля (passwordInput)\n",
    "password_field: WebElement = driver.find_element(By.ID, \"passwordInput\")\n",
    "password_field.send_keys(\"MySecretPassword\")\n",
    "print(\"В поле пароля введен текст (скрытый)\")"
   ]
  },
  {
   "cell_type": "code",
   "execution_count": 16,
   "id": "538cd9d0-77d2-4273-b7a8-82bad94b9daf",
   "metadata": {},
   "outputs": [
    {
     "name": "stdout",
     "output_type": "stream",
     "text": [
      "В поле email введен текст\n"
     ]
    }
   ],
   "source": [
    "# 3. Взаимодействие с полем email (emailInput)\n",
    "email_field: WebElement = driver.find_element(By.ID, \"emailInput\")\n",
    "email_field.clear()\n",
    "email_field.send_keys(\"test@example.com\")\n",
    "print(\"В поле email введен текст\")"
   ]
  },
  {
   "cell_type": "code",
   "execution_count": 17,
   "id": "27012682-025f-41f3-95ba-c15f7bb365f4",
   "metadata": {},
   "outputs": [
    {
     "name": "stdout",
     "output_type": "stream",
     "text": [
      "В текстовую область введен текст\n"
     ]
    }
   ],
   "source": [
    "# 4. Взаимодействие с текстовой областью (textareaInput)\n",
    "textarea_field: WebElement = driver.find_element(By.ID, \"textareaInput\")\n",
    "textarea_field.clear()\n",
    "textarea_field.send_keys(\"Текст, введенный в текстовую область через Selenium.\\nМногострочный текст.\")\n",
    "print(\"В текстовую область введен текст\")"
   ]
  },
  {
   "cell_type": "markdown",
   "id": "31f89d71-e9bb-4503-ae81-1da0517339a0",
   "metadata": {},
   "source": [
    "---\n",
    "# 5. Выбор значения из выпадающего списка (mySelect)\n",
    "```html\n",
    "            <div class=\"form-group\">\n",
    "                <label for=\"mySelect\">Выпадающий список:</label>\n",
    "                <select class=\"form-control\" id=\"mySelect\" name=\"mySelect\">\n",
    "                    <option value=\"option1\">Option 1</option>\n",
    "                    <option value=\"option2\">Option 2</option>\n",
    "                    <option value=\"option3\">Option 3</option>\n",
    "                </select>\n",
    "            </div>\n",
    "```"
   ]
  },
  {
   "cell_type": "code",
   "execution_count": 21,
   "id": "51c815fe-f505-44c2-9d52-af39a10a5a9c",
   "metadata": {},
   "outputs": [
    {
     "name": "stdout",
     "output_type": "stream",
     "text": [
      "В выпадающем списке выбран Option 2\n"
     ]
    }
   ],
   "source": [
    "\n",
    "select_element: WebElement = driver.find_element(By.ID, \"mySelect\")\n",
    "select: Select = Select(select_element)\n",
    "select.select_by_value(\"option2\")\n",
    "print(\"В выпадающем списке выбран Option 2\")"
   ]
  },
  {
   "cell_type": "code",
   "execution_count": 22,
   "id": "6c129f0e-3275-4f31-97cf-bc4c199c49a3",
   "metadata": {},
   "outputs": [],
   "source": [
    "def select_option_by_text(driver: WebDriver, select_id: str, option_text: str) -> None:\n",
    "    \"\"\"\n",
    "    Выбирает опцию из выпадающего списка по видимому тексту.\n",
    "\n",
    "    Args:\n",
    "        driver: Экземпляр веб-драйвера Selenium.\n",
    "        select_id: ID элемента <select>.\n",
    "        option_text: Текст опции, которую нужно выбрать.\n",
    "    \"\"\"\n",
    "    try:\n",
    "        select_element: WebElement = driver.find_element(By.ID, select_id)\n",
    "        select: Select = Select(select_element)\n",
    "        select.select_by_visible_text(option_text)\n",
    "        print(f\"В выпадающем списке с ID '{select_id}' выбрана опция с текстом '{option_text}'\")\n",
    "    except Exception as e:\n",
    "        print(f\"Ошибка при выборе опции по тексту: {e}\")"
   ]
  },
  {
   "cell_type": "code",
   "execution_count": 23,
   "id": "81ea3c07-6e2c-4983-9788-efe05058ce79",
   "metadata": {},
   "outputs": [
    {
     "name": "stdout",
     "output_type": "stream",
     "text": [
      "В выпадающем списке с ID 'mySelect' выбрана опция с текстом 'Option 2'\n"
     ]
    }
   ],
   "source": [
    "select_option_by_text(driver, \"mySelect\", \"Option 2\")"
   ]
  },
  {
   "cell_type": "markdown",
   "id": "19e28551-c89b-42db-b1e9-4c051d0a8dad",
   "metadata": {},
   "source": [
    "# 6. Установка и снятие флажков (checkbox1, checkbox2)"
   ]
  },
  {
   "cell_type": "code",
   "execution_count": null,
   "id": "9e7fb4c5-d319-4b80-903a-29d788ddfe84",
   "metadata": {},
   "outputs": [],
   "source": [
    "\n",
    "checkbox1: WebElement = driver.find_element(By.ID, \"checkbox1\")\n",
    "checkbox2: WebElement = driver.find_element(By.ID, \"checkbox2\")\n",
    "\n",
    "if not checkbox1.is_selected():\n",
    "    checkbox1.click()\n",
    "    print(\"Чекбокс 1 установлен\")\n",
    "else:\n",
    "    print(\"Чекбокс 1 уже установлен\")\n",
    "\n",
    "if checkbox2.is_selected():\n",
    "    checkbox2.click()\n",
    "    print(\"Чекбокс 2 снят\")\n",
    "else:\n",
    "    print(\"Чекбокс 2 уже снят\")"
   ]
  }
 ],
 "metadata": {
  "kernelspec": {
   "display_name": "Python 3 (ipykernel)",
   "language": "python",
   "name": "python3"
  },
  "language_info": {
   "codemirror_mode": {
    "name": "ipython",
    "version": 3
   },
   "file_extension": ".py",
   "mimetype": "text/x-python",
   "name": "python",
   "nbconvert_exporter": "python",
   "pygments_lexer": "ipython3",
   "version": "3.12.7"
  }
 },
 "nbformat": 4,
 "nbformat_minor": 5
}
