{
 "cells": [
  {
   "cell_type": "code",
   "execution_count": 15,
   "id": "04cb0db5-bf53-4d35-9444-26367ada71dc",
   "metadata": {},
   "outputs": [],
   "source": [
    "from selenium.webdriver import Chrome, Firefox\n",
    "from selenium.webdriver.common.by import By\n",
    "from selenium.webdriver.support.ui import Select\n",
    "from selenium.webdriver.support.ui import WebDriverWait\n",
    "from selenium.webdriver.support import expected_conditions as EC\n",
    "from selenium.webdriver.common.keys import Keys\n",
    "\n",
    "from typing import List, Tuple, Optional"
   ]
  },
  {
   "cell_type": "code",
   "execution_count": 2,
   "id": "a4958553-6e16-498c-9649-a393867ce08c",
   "metadata": {},
   "outputs": [],
   "source": [
    "driver: Chrome | Firefox = Firefox()"
   ]
  },
  {
   "cell_type": "code",
   "execution_count": 3,
   "id": "b8fd6052-f857-4804-82ae-3dd03a8517f2",
   "metadata": {},
   "outputs": [],
   "source": [
    "url:str = 'https://davidka.net/examples/selenium/example_1.html'\n",
    "driver.get(url)"
   ]
  },
  {
   "cell_type": "markdown",
   "id": "bd21c33f-8fb8-4d68-97fb-cc8702aa7aa0",
   "metadata": {},
   "source": [
    "### Заглавие\n",
    "![Заглавие](https://github.com/hypo69/selenium_examples/blob/master/assets/example_1/1.png?raw=true)"
   ]
  },
  {
   "cell_type": "code",
   "execution_count": 18,
   "id": "86245786-4b44-48a2-82fa-82315b407e66",
   "metadata": {},
   "outputs": [],
   "source": [
    "# поиск по XPATH\n",
    "element = driver.find_element(By.XPATH, \"//body//header//h1\")\n",
    "\n",
    "# поиск по ID\n",
    "element = driver.find_element(By.ID, \"mainHeading\")"
   ]
  },
  {
   "cell_type": "code",
   "execution_count": 19,
   "id": "4b08206f-6abf-4915-8a3b-ac24319b82ac",
   "metadata": {},
   "outputs": [
    {
     "name": "stdout",
     "output_type": "stream",
     "text": [
      "Добро пожаловать на тестовую страницу!\n"
     ]
    }
   ],
   "source": [
    "header:str = element.text\n",
    "print(header)"
   ]
  },
  {
   "cell_type": "markdown",
   "id": "3a60b99c-59c8-43cc-8f8a-0b2f8aeadd3c",
   "metadata": {},
   "source": [
    "### Навигационные ссылки\n",
    "![Навигационные ссылки](https://github.com/hypo69/selenium_examples/blob/master/assets/example_1/2.png?raw=true) "
   ]
  },
  {
   "cell_type": "code",
   "execution_count": 24,
   "id": "bc9c5818-3562-4395-95c0-aea70b27a639",
   "metadata": {},
   "outputs": [],
   "source": [
    "def get_nav_links(driver: Chrome | Firefox) -> List[Tuple[str, str]]:\n",
    "    \"\"\"\n",
    "    Получает URL и текст ссылок из блока nav.\n",
    "\n",
    "    Args:\n",
    "        driver: Экземпляр веб-драйвера Selenium.\n",
    "\n",
    "    Returns:\n",
    "        Список кортежей, содержащих URL и текст каждой ссылки в блоке nav.\n",
    "        Возвращает пустой список, если блок nav не найден или произошла ошибка.\n",
    "    \"\"\"\n",
    "    try:\n",
    "        links: List[WebElement] = driver.find_elements(By.CSS_SELECTOR, \"nav a\")\n",
    "        return [(link.get_attribute(\"href\"), link.text) for link in links]\n",
    "    except Exception:\n",
    "        return []\n",
    "\n",
    "nav_links:List = get_nav_links(driver)"
   ]
  },
  {
   "cell_type": "code",
   "execution_count": 25,
   "id": "9db65887-a9e2-4f8e-a853-f28be57f77f5",
   "metadata": {},
   "outputs": [
    {
     "name": "stdout",
     "output_type": "stream",
     "text": [
      "[('https://www.example.com/', 'Главная'), ('https://davidka.net/examples/selenium/example_1.html#', 'О нас')]\n"
     ]
    }
   ],
   "source": [
    "print(nav_links)"
   ]
  },
  {
   "cell_type": "markdown",
   "id": "754ade86-f175-41b3-a4dc-83778a484015",
   "metadata": {},
   "source": [
    "### Первый параграф\n",
    "![Навигационные ссылки](https://github.com/hypo69/selenium_examples/blob/master/assets/example_1/3.png?raw=true) "
   ]
  },
  {
   "cell_type": "code",
   "execution_count": 26,
   "id": "5bcce883-1cc1-4372-9dca-209bce4fe812",
   "metadata": {},
   "outputs": [],
   "source": [
    "def get_first_paragraph_text(driver: Chrome | Firefox) -> Optional[str]:\n",
    "    \"\"\"\n",
    "    Получает текст первого параграфа.\n",
    "\n",
    "    Args:\n",
    "        driver: Экземпляр веб-драйвера Selenium.\n",
    "\n",
    "    Returns:\n",
    "        Текст первого параграфа, или None, если параграф не найден или произошла ошибка.\n",
    "    \"\"\"\n",
    "    try:\n",
    "        element: WebElement = driver.find_element(By.ID, \"firstParagraph\")\n",
    "        return element.text\n",
    "    except Exception:\n",
    "        return None\n",
    "first_paragraph_text:str = get_first_paragraph_text(driver)"
   ]
  },
  {
   "cell_type": "code",
   "execution_count": 27,
   "id": "5cdb1bc2-40ef-4993-9f7b-09c219d48454",
   "metadata": {},
   "outputs": [
    {
     "name": "stdout",
     "output_type": "stream",
     "text": [
      "Это первый параграф с вложенной ссылкой.\n"
     ]
    }
   ],
   "source": [
    "print(first_paragraph_text)"
   ]
  },
  {
   "cell_type": "markdown",
   "id": "8f59d25a-7f35-4eb1-b2f7-76f0a49a7e9d",
   "metadata": {},
   "source": [
    "### Навигационная ссылка в первом параграфе \n",
    "![Навигационные ссылки в первом параграфе ](https://github.com/hypo69/selenium_examples/blob/master/assets/example_1/4.png?raw=true) "
   ]
  },
  {
   "cell_type": "code",
   "execution_count": 28,
   "id": "00a87bdc-7501-465a-b960-9ae0cbf5cb65",
   "metadata": {},
   "outputs": [],
   "source": [
    "def get_first_paragraph_link_url(driver: Chrome | Firefox) -> Optional[str]:\n",
    "    \"\"\"\n",
    "    Получает URL ссылки внутри первого параграфа.\n",
    "\n",
    "    Args:\n",
    "        driver: Экземпляр веб-драйвера Selenium.\n",
    "\n",
    "    Returns:\n",
    "        URL ссылки внутри первого параграфа, или None, если ссылка не найдена или произошла ошибка.\n",
    "    \"\"\"\n",
    "    try:\n",
    "        # через CSS\n",
    "        link: WebElement = driver.find_element(By.CSS_SELECTOR, \"#firstParagraph a\")\n",
    "\n",
    "        # через XPATH\n",
    "        link: WebElement = driver.find_element(By.XPATH, \"//p[@id = 'firstParagraph']//a\")\n",
    "        \n",
    "        return link.get_attribute(\"href\")\n",
    "    except Exception:\n",
    "        return None\n",
    "\n",
    "first_paragraph_link:str = get_first_paragraph_link_url(driver)"
   ]
  },
  {
   "cell_type": "code",
   "execution_count": 29,
   "id": "8aa82006-f9ab-4ded-a285-61111cce1a6b",
   "metadata": {},
   "outputs": [
    {
     "name": "stdout",
     "output_type": "stream",
     "text": [
      "https://davidka.net/examples/selenium/example_1.html#\n"
     ]
    }
   ],
   "source": [
    "print(first_paragraph_link)"
   ]
  },
  {
   "cell_type": "markdown",
   "id": "a29f8f74-5f3f-4b14-868e-65c8b5032dd4",
   "metadata": {},
   "source": [
    "### Получить содержимое поля вводя `Имя` \n",
    "![содержимое поля вводя `Имя` ](https://github.com/hypo69/selenium_examples/blob/master/assets/example_1/6.png?raw=true) "
   ]
  },
  {
   "cell_type": "code",
   "execution_count": 30,
   "id": "12ea41d5-d487-4312-9845-3e223b1fcbf5",
   "metadata": {},
   "outputs": [],
   "source": [
    "def get_name_input_value(driver: Chrome | Firefox) -> Optional[str]:\n",
    "    \"\"\"\n",
    "    Получает значение поля ввода имени.\n",
    "\n",
    "    Args:\n",
    "        driver: Экземпляр веб-драйвера Selenium.\n",
    "\n",
    "    Returns:\n",
    "        Значение поля ввода имени, или None, если поле не найдено или произошла ошибка.\n",
    "    \"\"\"\n",
    "    try:\n",
    "        element: WebElement = driver.find_element(By.ID, \"name\")\n",
    "        return element.get_attribute(\"value\")\n",
    "    except Exception:\n",
    "        return None\n",
    "\n",
    "name_input_value:str = get_name_input_value(driver)"
   ]
  },
  {
   "cell_type": "code",
   "execution_count": 31,
   "id": "cff260c7-399e-4cad-9f83-0060e4ffa6df",
   "metadata": {},
   "outputs": [
    {
     "name": "stdout",
     "output_type": "stream",
     "text": [
      "Имя по умолчанию\n"
     ]
    }
   ],
   "source": [
    "print(name_input_value)"
   ]
  },
  {
   "cell_type": "markdown",
   "id": "57cdbe4e-65fd-4e46-8fcd-0ac73b796d34",
   "metadata": {},
   "source": [
    "### Получить плейсхолдер поля вводя `Email` \n",
    "![содержимое плейсхолдер поля `Email` ](https://github.com/hypo69/selenium_examples/blob/master/assets/example_1/7.png?raw=true) "
   ]
  },
  {
   "cell_type": "code",
   "execution_count": 33,
   "id": "e259811b-821d-435b-8201-1d85300cb48d",
   "metadata": {},
   "outputs": [],
   "source": [
    "def get_email_input_placeholder(driver: Chrome | Firefox) -> Optional[str]:\n",
    "    \"\"\"\n",
    "    Получает placeholder поля ввода email.\n",
    "\n",
    "    Args:\n",
    "        driver: Экземпляр веб-драйвера Selenium.\n",
    "\n",
    "    Returns:\n",
    "        Placeholder поля ввода email, или None, если поле не найдено или произошла ошибка.\n",
    "    \"\"\"\n",
    "    try:\n",
    "        element: WebElement = driver.find_element(By.ID, \"email\")\n",
    "        return element.get_attribute(\"placeholder\")\n",
    "    except Exception:\n",
    "        return None\n",
    "\n",
    "email_input_placeholder:str = get_email_input_placeholder(driver)"
   ]
  },
  {
   "cell_type": "code",
   "execution_count": 34,
   "id": "98a859f3-2e23-4a0c-9cf3-ddf16458702a",
   "metadata": {},
   "outputs": [
    {
     "name": "stdout",
     "output_type": "stream",
     "text": [
      "Введите ваш email\n"
     ]
    }
   ],
   "source": [
    "print(email_input_placeholder)"
   ]
  },
  {
   "cell_type": "markdown",
   "id": "4efae665-818f-453e-b9bb-17866c341f0e",
   "metadata": {},
   "source": [
    "### Определяет выбранный пол\n",
    "![Определяет выбранный пол](https://github.com/hypo69/selenium_examples/blob/master/assets/example_1/8.png?raw=true) "
   ]
  },
  {
   "cell_type": "code",
   "execution_count": 37,
   "id": "ae8909f0-e2e1-4868-898e-5eadca3e0998",
   "metadata": {},
   "outputs": [],
   "source": [
    "def get_selected_gender(driver: Chrome | Firefox) -> Optional[str]:\n",
    "    \"\"\"\n",
    "    Определяет выбранный пол (male или female).\n",
    "\n",
    "    Args:\n",
    "        driver: Экземпляр веб-драйвера Selenium.\n",
    "\n",
    "    Returns:\n",
    "        Строку \"male\" или \"female\", в зависимости от выбранного пола, или None,\n",
    "        если ни один из вариантов не выбран или произошла ошибка.\n",
    "    \"\"\"\n",
    "    try:\n",
    "        male_radio: WebElement = driver.find_element(By.ID, \"male\")\n",
    "        if male_radio.is_selected():\n",
    "            return \"male\"\n",
    "        female_radio: WebElement = driver.find_element(By.ID, \"female\")\n",
    "        if female_radio.is_selected():\n",
    "            return \"female\"\n",
    "        return None\n",
    "    except Exception:\n",
    "        return None\n",
    "\n",
    "selected_gender:str = get_selected_gender(driver)"
   ]
  },
  {
   "cell_type": "code",
   "execution_count": 38,
   "id": "4950043d-07cf-4336-8e88-fad0943846c5",
   "metadata": {},
   "outputs": [
    {
     "name": "stdout",
     "output_type": "stream",
     "text": [
      "male\n"
     ]
    }
   ],
   "source": [
    "print(selected_gender)"
   ]
  },
  {
   "cell_type": "markdown",
   "id": "44c724fe-782d-4351-9d99-6ab220cb7931",
   "metadata": {},
   "source": [
    "### Значение выбранной страны из выпадающего списка\n",
    "![Страна](https://github.com/hypo69/selenium_examples/blob/master/assets/example_1/9.png?raw=true) "
   ]
  },
  {
   "cell_type": "code",
   "execution_count": 41,
   "id": "d87a77f6-f39b-4b77-b506-61274bd273d6",
   "metadata": {},
   "outputs": [],
   "source": [
    "def get_selected_country(driver: Chrome | Firefox) -> Optional[str]:\n",
    "    \"\"\"\n",
    "    Получает значение выбранной страны из выпадающего списка.\n",
    "\n",
    "    Args:\n",
    "        driver: Экземпляр веб-драйвера Selenium.\n",
    "\n",
    "    Returns:\n",
    "        Значение выбранной страны, или None, если выпадающий список не найден или произошла ошибка.\n",
    "    \"\"\"\n",
    "    try:\n",
    "        select_element: WebElement = driver.find_element(By.ID, \"country\")\n",
    "        select: Select = Select(select_element)\n",
    "        return select.first_selected_option.get_attribute(\"value\")\n",
    "    except Exception:\n",
    "        return None\n",
    "\n",
    "selected_country:str = get_selected_country(driver)"
   ]
  },
  {
   "cell_type": "code",
   "execution_count": 42,
   "id": "e23c9e0e-b13b-4b5d-b1b8-6810721dcf2b",
   "metadata": {},
   "outputs": [
    {
     "name": "stdout",
     "output_type": "stream",
     "text": [
      "germany\n"
     ]
    }
   ],
   "source": [
    "print(selected_country)"
   ]
  },
  {
   "cell_type": "markdown",
   "id": "43cac2f0-dbd2-4e31-a3e6-c3894f639d63",
   "metadata": {},
   "source": [
    "### Значение поля textarea для комментариев\n",
    "![Комментарии](https://github.com/hypo69/selenium_examples/blob/master/assets/example_1/10.png?raw=true) "
   ]
  },
  {
   "cell_type": "code",
   "execution_count": 49,
   "id": "3385a3b9-6939-4604-8c62-61c01206b71a",
   "metadata": {},
   "outputs": [],
   "source": [
    "def get_comments_textarea_value(driver: Chrome | Firefox) -> Optional[str]:\n",
    "    \"\"\"\n",
    "    Получает значение поля textarea для комментариев.\n",
    "\n",
    "    Args:\n",
    "        driver: Экземпляр веб-драйвера Selenium.\n",
    "\n",
    "    Returns:\n",
    "        Значение поля textarea для комментариев, или None, если поле не найдено или произошла ошибка.\n",
    "    \"\"\"\n",
    "    try:\n",
    "        element: WebElement = driver.find_element(By.ID, \"comments\")\n",
    "        return element.text\n",
    "    except Exception:\n",
    "        return None\n",
    "\n",
    "comments_textarea_value:str = get_comments_textarea_value(driver)"
   ]
  },
  {
   "cell_type": "code",
   "execution_count": 50,
   "id": "cb877998-68d0-45c3-a4c9-c22899a76705",
   "metadata": {},
   "outputs": [
    {
     "name": "stdout",
     "output_type": "stream",
     "text": [
      "Оставьте свой комментарий здесь.\n",
      "                \n"
     ]
    }
   ],
   "source": [
    "print(comments_textarea_value)"
   ]
  },
  {
   "cell_type": "code",
   "execution_count": null,
   "id": "e7fe7c8a-b1cf-42b2-bf6d-d421f4d56ab9",
   "metadata": {},
   "outputs": [],
   "source": []
  }
 ],
 "metadata": {
  "kernelspec": {
   "display_name": "Python 3 (ipykernel)",
   "language": "python",
   "name": "python3"
  },
  "language_info": {
   "codemirror_mode": {
    "name": "ipython",
    "version": 3
   },
   "file_extension": ".py",
   "mimetype": "text/x-python",
   "name": "python",
   "nbconvert_exporter": "python",
   "pygments_lexer": "ipython3",
   "version": "3.12.7"
  }
 },
 "nbformat": 4,
 "nbformat_minor": 5
}
