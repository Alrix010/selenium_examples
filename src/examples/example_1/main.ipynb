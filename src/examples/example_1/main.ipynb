{
 "cells": [
  {
   "cell_type": "code",
   "execution_count": 15,
   "id": "04cb0db5-bf53-4d35-9444-26367ada71dc",
   "metadata": {},
   "outputs": [],
   "source": [
    "from selenium.webdriver import Chrome, Firefox\n",
    "from selenium.webdriver.common.by import By\n",
    "from selenium.webdriver.support.ui import Select\n",
    "from selenium.webdriver.support.ui import WebDriverWait\n",
    "from selenium.webdriver.support import expected_conditions as EC\n",
    "from selenium.webdriver.common.keys import Keys\n",
    "\n",
    "from typing import List, Tuple, Optional"
   ]
  },
  {
   "cell_type": "code",
   "execution_count": 2,
   "id": "a4958553-6e16-498c-9649-a393867ce08c",
   "metadata": {},
   "outputs": [],
   "source": [
    "driver: Chrome | Firefox = Firefox()"
   ]
  },
  {
   "cell_type": "code",
   "execution_count": 3,
   "id": "b8fd6052-f857-4804-82ae-3dd03a8517f2",
   "metadata": {},
   "outputs": [],
   "source": [
    "url:str = 'https://davidka.net/examples/selenium/example_1.html'\n",
    "driver.get(url)"
   ]
  },
  {
   "cell_type": "markdown",
   "id": "bd21c33f-8fb8-4d68-97fb-cc8702aa7aa0",
   "metadata": {},
   "source": [
    "### Заглавие\n",
    "![Заглавие](https://github.com/hypo69/selenium_examples/blob/master/assets/example_1/1.png?raw=true)"
   ]
  },
  {
   "cell_type": "code",
   "execution_count": 18,
   "id": "86245786-4b44-48a2-82fa-82315b407e66",
   "metadata": {},
   "outputs": [],
   "source": [
    "# поиск по XPATH\n",
    "element = driver.find_element(By.XPATH, \"//body//header//h1\")\n",
    "\n",
    "# поиск по ID\n",
    "element = driver.find_element(By.ID, \"mainHeading\")"
   ]
  },
  {
   "cell_type": "code",
   "execution_count": 19,
   "id": "4b08206f-6abf-4915-8a3b-ac24319b82ac",
   "metadata": {},
   "outputs": [
    {
     "name": "stdout",
     "output_type": "stream",
     "text": [
      "Добро пожаловать на тестовую страницу!\n"
     ]
    }
   ],
   "source": [
    "header:str = element.text\n",
    "print(header)"
   ]
  },
  {
   "cell_type": "markdown",
   "id": "63fc5ca7-0231-4654-90e6-2b17095beae3",
   "metadata": {},
   "source": [
    "---"
   ]
  },
  {
   "cell_type": "markdown",
   "id": "3a60b99c-59c8-43cc-8f8a-0b2f8aeadd3c",
   "metadata": {},
   "source": [
    "### Навигационные ссылки\n",
    "![Навигационные ссылки](https://github.com/hypo69/selenium_examples/blob/master/assets/example_1/2.png?raw=true) "
   ]
  },
  {
   "cell_type": "code",
   "execution_count": 24,
   "id": "bc9c5818-3562-4395-95c0-aea70b27a639",
   "metadata": {},
   "outputs": [],
   "source": [
    "def get_nav_links(driver: Chrome | Firefox) -> List[Tuple[str, str]]:\n",
    "    \"\"\"\n",
    "    Получает URL и текст ссылок из блока nav.\n",
    "\n",
    "    Args:\n",
    "        driver: Экземпляр веб-драйвера Selenium.\n",
    "\n",
    "    Returns:\n",
    "        Список кортежей, содержащих URL и текст каждой ссылки в блоке nav.\n",
    "        Возвращает пустой список, если блок nav не найден или произошла ошибка.\n",
    "    \"\"\"\n",
    "    try:\n",
    "        links: List[WebElement] = driver.find_elements(By.CSS_SELECTOR, \"nav a\")\n",
    "        return [(link.get_attribute(\"href\"), link.text) for link in links]\n",
    "    except Exception as ex:\n",
    "        print(ex)\n",
    "        return []\n",
    "\n"
   ]
  },
  {
   "cell_type": "code",
   "execution_count": 25,
   "id": "9db65887-a9e2-4f8e-a853-f28be57f77f5",
   "metadata": {},
   "outputs": [
    {
     "name": "stdout",
     "output_type": "stream",
     "text": [
      "[('https://www.example.com/', 'Главная'), ('https://davidka.net/examples/selenium/example_1.html#', 'О нас')]\n"
     ]
    }
   ],
   "source": [
    "nav_links:List = get_nav_links(driver)\n",
    "print(nav_links)"
   ]
  },
  {
   "cell_type": "markdown",
   "id": "592aacd2-533a-4dfc-b3c0-a9d8fdab0dc3",
   "metadata": {},
   "source": [
    "---"
   ]
  },
  {
   "cell_type": "markdown",
   "id": "754ade86-f175-41b3-a4dc-83778a484015",
   "metadata": {},
   "source": [
    "### Первый параграф\n",
    "![Навигационные ссылки](https://github.com/hypo69/selenium_examples/blob/master/assets/example_1/3.png?raw=true) "
   ]
  },
  {
   "cell_type": "code",
   "execution_count": 26,
   "id": "5bcce883-1cc1-4372-9dca-209bce4fe812",
   "metadata": {},
   "outputs": [],
   "source": [
    "def get_first_paragraph_text(driver: Chrome | Firefox) -> str:\n",
    "    \"\"\"\n",
    "    Получает текст первого параграфа.\n",
    "\n",
    "    Args:\n",
    "        driver: Экземпляр веб-драйвера Selenium.\n",
    "\n",
    "    Returns:\n",
    "        Текст первого параграфа, или None, если параграф не найден или произошла ошибка.\n",
    "    \"\"\"\n",
    "    try:\n",
    "        element: WebElement = driver.find_element(By.ID, \"firstParagraph\")\n",
    "        return element.text\n",
    "    except Exception as ex:\n",
    "        print(x)\n",
    "        return ''\n"
   ]
  },
  {
   "cell_type": "code",
   "execution_count": 27,
   "id": "5cdb1bc2-40ef-4993-9f7b-09c219d48454",
   "metadata": {},
   "outputs": [
    {
     "name": "stdout",
     "output_type": "stream",
     "text": [
      "Это первый параграф с вложенной ссылкой.\n"
     ]
    }
   ],
   "source": [
    "first_paragraph_text:str = get_first_paragraph_text(driver)\n",
    "print(first_paragraph_text)"
   ]
  },
  {
   "cell_type": "markdown",
   "id": "9cfdfcff-b33e-46ab-8652-d755b0cac00a",
   "metadata": {},
   "source": [
    "---"
   ]
  },
  {
   "cell_type": "markdown",
   "id": "8f59d25a-7f35-4eb1-b2f7-76f0a49a7e9d",
   "metadata": {},
   "source": [
    "### Навигационная ссылка в первом параграфе \n",
    "![Навигационные ссылки в первом параграфе ](https://github.com/hypo69/selenium_examples/blob/master/assets/example_1/4.png?raw=true) "
   ]
  },
  {
   "cell_type": "code",
   "execution_count": 28,
   "id": "00a87bdc-7501-465a-b960-9ae0cbf5cb65",
   "metadata": {},
   "outputs": [],
   "source": [
    "def get_first_paragraph_link_url(driver: Chrome | Firefox) -> str:\n",
    "    \"\"\"\n",
    "    Получает URL ссылки внутри первого параграфа.\n",
    "\n",
    "    Args:\n",
    "        driver: Экземпляр веб-драйвера Selenium.\n",
    "\n",
    "    Returns:\n",
    "        URL ссылки внутри первого параграфа, или None, если ссылка не найдена или произошла ошибка.\n",
    "    \"\"\"\n",
    "    try:\n",
    "        # через CSS\n",
    "        link: WebElement = driver.find_element(By.CSS_SELECTOR, \"#firstParagraph a\")\n",
    "\n",
    "        # через XPATH\n",
    "        link: WebElement = driver.find_element(By.XPATH, \"//p[@id = 'firstParagraph']//a\")\n",
    "        \n",
    "        return link.get_attribute(\"href\")\n",
    "    except Exception as ex:\n",
    "        print(ex)\n",
    "        return ''\n",
    "\n"
   ]
  },
  {
   "cell_type": "code",
   "execution_count": 29,
   "id": "8aa82006-f9ab-4ded-a285-61111cce1a6b",
   "metadata": {},
   "outputs": [
    {
     "name": "stdout",
     "output_type": "stream",
     "text": [
      "https://davidka.net/examples/selenium/example_1.html#\n"
     ]
    }
   ],
   "source": [
    "first_paragraph_link:str = get_first_paragraph_link_url(driver)\n",
    "print(first_paragraph_link)"
   ]
  },
  {
   "cell_type": "markdown",
   "id": "53e28e8f-4f53-4bcb-8927-1c00a5d8031c",
   "metadata": {},
   "source": [
    "---"
   ]
  },
  {
   "cell_type": "markdown",
   "id": "a29f8f74-5f3f-4b14-868e-65c8b5032dd4",
   "metadata": {},
   "source": [
    "### Получить содержимое поля вводя `Имя` \n",
    "![содержимое поля вводя `Имя` ](https://github.com/hypo69/selenium_examples/blob/master/assets/example_1/6.png?raw=true) "
   ]
  },
  {
   "cell_type": "code",
   "execution_count": 30,
   "id": "12ea41d5-d487-4312-9845-3e223b1fcbf5",
   "metadata": {},
   "outputs": [],
   "source": [
    "def get_name_input_value(driver: Chrome | Firefox) -> str:\n",
    "    \"\"\"\n",
    "    Получает значение поля ввода имени.\n",
    "\n",
    "    Args:\n",
    "        driver: Экземпляр веб-драйвера Selenium.\n",
    "\n",
    "    Returns:\n",
    "        Значение поля ввода имени, или None, если поле не найдено или произошла ошибка.\n",
    "    \"\"\"\n",
    "    try:\n",
    "        element: WebElement = driver.find_element(By.ID, \"name\")\n",
    "        return element.get_attribute(\"value\")\n",
    "    except Exception as ex:\n",
    "        print(ex)\n",
    "        return ''\n",
    "\n"
   ]
  },
  {
   "cell_type": "code",
   "execution_count": 31,
   "id": "cff260c7-399e-4cad-9f83-0060e4ffa6df",
   "metadata": {},
   "outputs": [
    {
     "name": "stdout",
     "output_type": "stream",
     "text": [
      "Имя по умолчанию\n"
     ]
    }
   ],
   "source": [
    "name_input_value:str = get_name_input_value(driver)\n",
    "print(name_input_value)"
   ]
  },
  {
   "cell_type": "markdown",
   "id": "c2bb95ef-8623-44d2-92d9-8b92be23f0ca",
   "metadata": {},
   "source": [
    "---"
   ]
  },
  {
   "cell_type": "markdown",
   "id": "57cdbe4e-65fd-4e46-8fcd-0ac73b796d34",
   "metadata": {},
   "source": [
    "### Получить плейсхолдер поля вводя `Email` \n",
    "![содержимое плейсхолдер поля `Email` ](https://github.com/hypo69/selenium_examples/blob/master/assets/example_1/7.png?raw=true) "
   ]
  },
  {
   "cell_type": "code",
   "execution_count": 33,
   "id": "e259811b-821d-435b-8201-1d85300cb48d",
   "metadata": {},
   "outputs": [],
   "source": [
    "def get_email_input_placeholder(driver: Chrome | Firefox) -> str:\n",
    "    \"\"\"\n",
    "    Получает placeholder поля ввода email.\n",
    "\n",
    "    Args:\n",
    "        driver: Экземпляр веб-драйвера Selenium.\n",
    "\n",
    "    Returns:\n",
    "        Placeholder поля ввода email, или None, если поле не найдено или произошла ошибка.\n",
    "    \"\"\"\n",
    "    try:\n",
    "        element: WebElement = driver.find_element(By.ID, \"email\")\n",
    "        return element.get_attribute(\"placeholder\")\n",
    "    except Exception as ex:\n",
    "        print(x)\n",
    "        return ''\n",
    "\n"
   ]
  },
  {
   "cell_type": "code",
   "execution_count": 34,
   "id": "98a859f3-2e23-4a0c-9cf3-ddf16458702a",
   "metadata": {},
   "outputs": [
    {
     "name": "stdout",
     "output_type": "stream",
     "text": [
      "Введите ваш email\n"
     ]
    }
   ],
   "source": [
    "email_input_placeholder:str = get_email_input_placeholder(driver)\n",
    "print(email_input_placeholder)"
   ]
  },
  {
   "cell_type": "markdown",
   "id": "8f56a9a3-d302-4128-9fac-b9835bc7cb24",
   "metadata": {},
   "source": [
    "---"
   ]
  },
  {
   "cell_type": "markdown",
   "id": "4efae665-818f-453e-b9bb-17866c341f0e",
   "metadata": {},
   "source": [
    "### Определяет выбранный пол\n",
    "![Определяет выбранный пол](https://github.com/hypo69/selenium_examples/blob/master/assets/example_1/8.png?raw=true) "
   ]
  },
  {
   "cell_type": "code",
   "execution_count": 37,
   "id": "ae8909f0-e2e1-4868-898e-5eadca3e0998",
   "metadata": {},
   "outputs": [],
   "source": [
    "def get_selected_gender(driver: Chrome | Firefox) -> str:\n",
    "    \"\"\"\n",
    "    Определяет выбранный пол (male или female).\n",
    "\n",
    "    Args:\n",
    "        driver: Экземпляр веб-драйвера Selenium.\n",
    "\n",
    "    Returns:\n",
    "        Строку \"male\" или \"female\", в зависимости от выбранного пола, или None,\n",
    "        если ни один из вариантов не выбран или произошла ошибка.\n",
    "    \"\"\"\n",
    "    try:\n",
    "        male_radio: WebElement = driver.find_element(By.ID, \"male\")\n",
    "        if male_radio.is_selected():\n",
    "            return \"male\"\n",
    "        female_radio: WebElement = driver.find_element(By.ID, \"female\")\n",
    "        if female_radio.is_selected():\n",
    "            return \"female\"\n",
    "        return ''\n",
    "    except Exception as ex:\n",
    "        print(ex)\n",
    "        return ''\n",
    "\n"
   ]
  },
  {
   "cell_type": "code",
   "execution_count": 38,
   "id": "4950043d-07cf-4336-8e88-fad0943846c5",
   "metadata": {},
   "outputs": [
    {
     "name": "stdout",
     "output_type": "stream",
     "text": [
      "male\n"
     ]
    }
   ],
   "source": [
    "selected_gender:str = get_selected_gender(driver)\n",
    "print(selected_gender)"
   ]
  },
  {
   "cell_type": "markdown",
   "id": "d3fd6c2a-216a-46cb-9f83-45b4ea42203c",
   "metadata": {},
   "source": [
    "---"
   ]
  },
  {
   "cell_type": "markdown",
   "id": "44c724fe-782d-4351-9d99-6ab220cb7931",
   "metadata": {},
   "source": [
    "### Значение выбранной страны из выпадающего списка\n",
    "![Страна](https://github.com/hypo69/selenium_examples/blob/master/assets/example_1/9.png?raw=true) "
   ]
  },
  {
   "cell_type": "code",
   "execution_count": 66,
   "id": "d87a77f6-f39b-4b77-b506-61274bd273d6",
   "metadata": {},
   "outputs": [],
   "source": [
    "def get_selected_country(driver: Chrome | Firefox) -> str:\n",
    "    \"\"\"\n",
    "    Получает значение выбранной страны из выпадающего списка.\n",
    "\n",
    "    Args:\n",
    "        driver: Экземпляр веб-драйвера Selenium.\n",
    "\n",
    "    Returns:\n",
    "        Значение выбранной страны, или None, если выпадающий список не найден или произошла ошибка.\n",
    "    \"\"\"\n",
    "    try:\n",
    "        select_element: WebElement = driver.find_element(By.ID, \"country\")\n",
    "        select: Select = Select(select_element)\n",
    "        return select.first_selected_option.get_attribute(\"value\")\n",
    "    except Exception as ex:\n",
    "        print(x)\n",
    "        return ''\n",
    "\n"
   ]
  },
  {
   "cell_type": "code",
   "execution_count": 67,
   "id": "e23c9e0e-b13b-4b5d-b1b8-6810721dcf2b",
   "metadata": {},
   "outputs": [
    {
     "name": "stdout",
     "output_type": "stream",
     "text": [
      "germany\n"
     ]
    }
   ],
   "source": [
    "selected_country:str = get_selected_country(driver)\n",
    "print(selected_country)"
   ]
  },
  {
   "cell_type": "markdown",
   "id": "dfa8350f-393b-4339-a122-a645a8101718",
   "metadata": {},
   "source": [
    "---"
   ]
  },
  {
   "cell_type": "markdown",
   "id": "43cac2f0-dbd2-4e31-a3e6-c3894f639d63",
   "metadata": {},
   "source": [
    "### Значение поля textarea для комментариев\n",
    "![Комментарии](https://github.com/hypo69/selenium_examples/blob/master/assets/example_1/10.png?raw=true) "
   ]
  },
  {
   "cell_type": "code",
   "execution_count": 49,
   "id": "3385a3b9-6939-4604-8c62-61c01206b71a",
   "metadata": {},
   "outputs": [],
   "source": [
    "def get_comments_textarea_value(driver: Chrome | Firefox) -> str:\n",
    "    \"\"\"\n",
    "    Получает значение поля textarea для комментариев.\n",
    "\n",
    "    Args:\n",
    "        driver: Экземпляр веб-драйвера Selenium.\n",
    "\n",
    "    Returns:\n",
    "        Значение поля textarea для комментариев, или None, если поле не найдено или произошла ошибка.\n",
    "    \"\"\"\n",
    "    try:\n",
    "        element: WebElement = driver.find_element(By.ID, \"comments\")\n",
    "        return element.text\n",
    "    except Exception as ex:\n",
    "        print(x)\n",
    "        return ''\n",
    "\n"
   ]
  },
  {
   "cell_type": "code",
   "execution_count": 50,
   "id": "cb877998-68d0-45c3-a4c9-c22899a76705",
   "metadata": {},
   "outputs": [
    {
     "name": "stdout",
     "output_type": "stream",
     "text": [
      "Оставьте свой комментарий здесь.\n",
      "                \n"
     ]
    }
   ],
   "source": [
    "comments_textarea_value:str = get_comments_textarea_value(driver)\n",
    "print(comments_textarea_value)"
   ]
  },
  {
   "cell_type": "markdown",
   "id": "b569f903-83ba-4d0a-a085-c897c26acc92",
   "metadata": {},
   "source": [
    "---"
   ]
  },
  {
   "cell_type": "markdown",
   "id": "ea86338e-4a5e-45f2-95c0-4a5012154e1e",
   "metadata": {},
   "source": [
    "### Выбран ли чекбокс \"Я согласен с условиями\"\n",
    "![чекбокс \"Я согласен с условиями\"](https://github.com/hypo69/selenium_examples/blob/master/assets/example_1/11.png?raw=true)"
   ]
  },
  {
   "cell_type": "code",
   "execution_count": 55,
   "id": "e7fe7c8a-b1cf-42b2-bf6d-d421f4d56ab9",
   "metadata": {},
   "outputs": [],
   "source": [
    "def is_agree_checkbox_checked(driver: Chrome | Firefox) -> bool:\n",
    "    \"\"\"\n",
    "    Проверяет, выбран ли чекбокс \"Я согласен с условиями\".\n",
    "\n",
    "    Args:\n",
    "        driver: Экземпляр веб-драйвера Selenium.\n",
    "\n",
    "    Returns:\n",
    "        True, если чекбокс выбран, и False в противном случае, или если произошла ошибка.\n",
    "    \"\"\"\n",
    "    try:\n",
    "        checkbox: WebElement = driver.find_element(By.ID, \"agree\")\n",
    "        return checkbox.is_selected()\n",
    "    except Exception as ex:\n",
    "        print(ex)\n",
    "        return False\n"
   ]
  },
  {
   "cell_type": "code",
   "execution_count": 56,
   "id": "5c160966-e156-4281-8d73-ff78e1b983ce",
   "metadata": {},
   "outputs": [
    {
     "name": "stdout",
     "output_type": "stream",
     "text": [
      "True\n"
     ]
    }
   ],
   "source": [
    "checkbox_checked:bool = is_agree_checkbox_checked(driver)\n",
    "print(checkbox_checked)"
   ]
  },
  {
   "cell_type": "markdown",
   "id": "705ac189-354e-4956-8d5a-2996b617eb54",
   "metadata": {},
   "source": [
    "---"
   ]
  },
  {
   "cell_type": "markdown",
   "id": "232ef44d-c3a9-4848-8b15-20e8eef9426d",
   "metadata": {},
   "source": [
    "### Tекст кнопки отправки\n",
    "![Tекст кнопки отправки](https://github.com/hypo69/selenium_examples/blob/master/assets/example_1/12.png?raw=true)"
   ]
  },
  {
   "cell_type": "code",
   "execution_count": null,
   "id": "c816c1da-71dd-4b3d-97b6-3dd3aea4a395",
   "metadata": {},
   "outputs": [],
   "source": [
    "def get_submit_button_text(driver: Chrome | Firefox) -> str:\n",
    "    \"\"\"\n",
    "    Получает текст кнопки отправки.\n",
    "\n",
    "    Args:\n",
    "        driver: Экземпляр веб-драйвера Selenium.\n",
    "\n",
    "    Returns:\n",
    "        Текст кнопки отправки, или None, если кнопка не найдена или произошла ошибка.\n",
    "    \"\"\"\n",
    "    try:\n",
    "        button: WebElement = driver.find_element(By.ID, \"submitButton\")\n",
    "        return button.text\n",
    "    except Exception as ex:\n",
    "        print(x)\n",
    "        return ''\n",
    "\n"
   ]
  },
  {
   "cell_type": "code",
   "execution_count": 59,
   "id": "112136af-a2e1-468a-979a-239f2e21b913",
   "metadata": {},
   "outputs": [
    {
     "name": "stdout",
     "output_type": "stream",
     "text": [
      "Отправить\n"
     ]
    }
   ],
   "source": [
    "submit_button_text:str = get_submit_button_text(driver)\n",
    "print(submit_button_text)"
   ]
  },
  {
   "cell_type": "markdown",
   "id": "44767119-0cce-4742-aacb-06eadcc71a93",
   "metadata": {},
   "source": [
    "---"
   ]
  },
  {
   "cell_type": "markdown",
   "id": "3fd0b173-c265-4976-b25b-643f2937a7f0",
   "metadata": {},
   "source": [
    "### текст кнопки, вызывающей JavaScript alert\n",
    "![текст кнопки, вызывающей JavaScript alert](https://github.com/hypo69/selenium_examples/blob/master/assets/example_1/13.png?raw=true)"
   ]
  },
  {
   "cell_type": "code",
   "execution_count": 62,
   "id": "a9b239dd-8102-4f9b-9238-319324d1ba27",
   "metadata": {},
   "outputs": [],
   "source": [
    "def get_js_button_text(driver: Chrome | Firefox) -> str:\n",
    "    \"\"\"\n",
    "    Получает текст кнопки, вызывающей JavaScript alert.\n",
    "\n",
    "    Args:\n",
    "        driver: Экземпляр веб-драйвера Selenium.\n",
    "\n",
    "    Returns:\n",
    "        Текст кнопки, вызывающей JavaScript alert, или None, если кнопка не найдена или произошла ошибка.\n",
    "    \"\"\"\n",
    "    try:\n",
    "        button: WebElement = driver.find_element(By.CSS_SELECTOR, \"button[onclick]\")\n",
    "        return button.text\n",
    "    except Exception:\n",
    "        return ''"
   ]
  },
  {
   "cell_type": "code",
   "execution_count": 63,
   "id": "2f3ae44e-9e22-4c08-8696-b604cb522e08",
   "metadata": {},
   "outputs": [
    {
     "name": "stdout",
     "output_type": "stream",
     "text": [
      "Нажми меня!\n"
     ]
    }
   ],
   "source": [
    "js_button_text:str = get_js_button_text(driver)\n",
    "print(js_button_text)"
   ]
  },
  {
   "cell_type": "markdown",
   "id": "a169cf09-0cba-4cc2-a004-a8349350458d",
   "metadata": {},
   "source": [
    "---"
   ]
  },
  {
   "cell_type": "markdown",
   "id": "1a2f83bf-28b1-4027-a9d6-71a3bac97522",
   "metadata": {},
   "source": [
    "### текст всех элементов списка\n",
    "![текст всех элементов списка](https://github.com/hypo69/selenium_examples/blob/master/assets/example_1/14.png?raw=true)"
   ]
  },
  {
   "cell_type": "code",
   "execution_count": 64,
   "id": "c544c3ad-9c7c-443b-b68c-f539d46646b6",
   "metadata": {},
   "outputs": [],
   "source": [
    "def get_list_items_text(driver: Chrome | Firefox) -> List[str]:\n",
    "    \"\"\"\n",
    "    Получает текст всех элементов списка.\n",
    "\n",
    "    Args:\n",
    "        driver: Экземпляр веб-драйвера Selenium.\n",
    "\n",
    "    Returns:\n",
    "        Список строк, содержащих текст каждого элемента списка.\n",
    "        Возвращает пустой список, если список не найден или произошла ошибка.\n",
    "    \"\"\"\n",
    "    try:\n",
    "        items: List[WebElement] = driver.find_elements(By.CSS_SELECTOR, \"#listSection ul li\")\n",
    "        items: List[WebElement] = driver.find_elements(By.XPATH, \"//section[@id = 'listSection']//ul//li\")\n",
    "        return [item.text for item in items]\n",
    "    except Exception:\n",
    "        return []"
   ]
  },
  {
   "cell_type": "code",
   "execution_count": 65,
   "id": "71a975f8-6f84-4ec1-b90f-3feb0c0053d0",
   "metadata": {},
   "outputs": [
    {
     "name": "stdout",
     "output_type": "stream",
     "text": [
      "['Элемент 1', 'Элемент 2', 'Элемент 3']\n"
     ]
    }
   ],
   "source": [
    "list_items_text:List = get_list_items_text(driver)\n",
    "print(list_items_text)"
   ]
  },
  {
   "cell_type": "markdown",
   "id": "a8c51c75-1b1b-4a64-9adf-e63a86fb1484",
   "metadata": {},
   "source": [
    "---"
   ]
  },
  {
   "cell_type": "markdown",
   "id": "d9d7b4a5-e42e-4905-8bd1-3467c4519225",
   "metadata": {},
   "source": [
    "### данные из таблицы\n",
    "![данные из таблицы](https://github.com/hypo69/selenium_examples/blob/master/assets/example_1/15.png?raw=true)"
   ]
  },
  {
   "cell_type": "code",
   "execution_count": 69,
   "id": "4d4a0275-c4f6-4257-9f72-14c28aba4029",
   "metadata": {},
   "outputs": [],
   "source": [
    "def get_table_data(driver: Chrome | Firefox) -> List[List[str]]:\n",
    "    \"\"\"\n",
    "    Получает данные из таблицы.\n",
    "\n",
    "    Args:\n",
    "        driver: Экземпляр веб-драйвера Selenium.\n",
    "\n",
    "    Returns:\n",
    "        Список списков строк, представляющих данные из таблицы.\n",
    "        Возвращает пустой список, если таблица не найдена или произошла ошибка.\n",
    "    \"\"\"\n",
    "    try:\n",
    "        table_data: List[List[str]] = []\n",
    "        rows: List[WebElement] = driver.find_elements(By.CSS_SELECTOR, \"#tableSection table tbody tr\")\n",
    "        for row in rows:\n",
    "            cells: List[WebElement] = row.find_elements(By.TAG_NAME, \"td\")\n",
    "            table_data.append([cell.text for cell in cells])\n",
    "        return table_data\n",
    "    except Exception:\n",
    "        return []"
   ]
  },
  {
   "cell_type": "code",
   "execution_count": 70,
   "id": "503e5c77-dfba-4149-b924-6d1d58ee7e96",
   "metadata": {},
   "outputs": [
    {
     "name": "stdout",
     "output_type": "stream",
     "text": [
      "[['Иван', '30', 'Москва'], ['Мария', '25', 'Санкт-Петербург']]\n"
     ]
    }
   ],
   "source": [
    "table_data:list = get_table_data(driver)\n",
    "print(table_data)"
   ]
  },
  {
   "cell_type": "markdown",
   "id": "ed42610f-f499-4e1a-99cd-37e4196444cf",
   "metadata": {},
   "source": [
    "---"
   ]
  },
  {
   "cell_type": "markdown",
   "id": "23c36ebb-1ad7-4e3e-836c-48684797fc66",
   "metadata": {},
   "source": [
    "### отображается ли скрытый элемент\n",
    "![отображается ли скрытый элемент](https://github.com/hypo69/selenium_examples/blob/master/assets/example_1/16.png?raw=true)"
   ]
  },
  {
   "cell_type": "code",
   "execution_count": null,
   "id": "8be3a78a-6d09-4b2a-98bc-7db8b1044832",
   "metadata": {},
   "outputs": [],
   "source": [
    "def is_hidden_element_displayed(driver: WebDriver) -> bool:\n",
    "    \"\"\"\n",
    "    Проверяет, отображается ли скрытый элемент. Возвращает False если не отображается, или элемент не найден.\n",
    "\n",
    "    Args:\n",
    "        driver: Экземпляр веб-драйвера Selenium.\n",
    "\n",
    "    Returns:\n",
    "        True, если скрытый элемент отображается, и False в противном случае, или если элемент не найден.\n",
    "    \"\"\"\n",
    "    try:\n",
    "        element: WebElement = driver.find_element(By.ID, \"hiddenElement\")\n",
    "        return element.is_displayed()\n",
    "    except Exception:\n",
    "        return False  # Элемент не отображается или не найден"
   ]
  }
 ],
 "metadata": {
  "kernelspec": {
   "display_name": "Python 3 (ipykernel)",
   "language": "python",
   "name": "python3"
  },
  "language_info": {
   "codemirror_mode": {
    "name": "ipython",
    "version": 3
   },
   "file_extension": ".py",
   "mimetype": "text/x-python",
   "name": "python",
   "nbconvert_exporter": "python",
   "pygments_lexer": "ipython3",
   "version": "3.12.7"
  }
 },
 "nbformat": 4,
 "nbformat_minor": 5
}
