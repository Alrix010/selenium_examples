{
 "cells": [
  {
   "cell_type": "code",
   "execution_count": 15,
   "id": "04cb0db5-bf53-4d35-9444-26367ada71dc",
   "metadata": {},
   "outputs": [],
   "source": [
    "from selenium.webdriver import Chrome, Firefox\n",
    "from selenium.webdriver.common.by import By\n",
    "from selenium.webdriver.support.ui import Select\n",
    "from selenium.webdriver.support.ui import WebDriverWait\n",
    "from selenium.webdriver.support import expected_conditions as EC\n",
    "from selenium.webdriver.common.keys import Keys\n",
    "\n",
    "from typing import List, Tuple, Optional"
   ]
  },
  {
   "cell_type": "code",
   "execution_count": 2,
   "id": "a4958553-6e16-498c-9649-a393867ce08c",
   "metadata": {},
   "outputs": [],
   "source": [
    "driver: Chrome | Firefox = Firefox()"
   ]
  },
  {
   "cell_type": "code",
   "execution_count": 3,
   "id": "b8fd6052-f857-4804-82ae-3dd03a8517f2",
   "metadata": {},
   "outputs": [],
   "source": [
    "url:str = 'https://davidka.net/examples/selenium/example_1.html'\n",
    "driver.get(url)"
   ]
  },
  {
   "cell_type": "markdown",
   "id": "bd21c33f-8fb8-4d68-97fb-cc8702aa7aa0",
   "metadata": {},
   "source": [
    "### Заглавие\n",
    "![Заглавие](https://github.com/hypo69/selenium_examples/blob/master/assets/example_1/1.png?raw=true)"
   ]
  },
  {
   "cell_type": "code",
   "execution_count": 18,
   "id": "86245786-4b44-48a2-82fa-82315b407e66",
   "metadata": {},
   "outputs": [],
   "source": [
    "# поиск по XPATH\n",
    "element = driver.find_element(By.XPATH, \"//body//header//h1\")\n",
    "\n",
    "# поиск по ID\n",
    "element = driver.find_element(By.ID, \"mainHeading\")"
   ]
  },
  {
   "cell_type": "code",
   "execution_count": 19,
   "id": "4b08206f-6abf-4915-8a3b-ac24319b82ac",
   "metadata": {},
   "outputs": [
    {
     "name": "stdout",
     "output_type": "stream",
     "text": [
      "Добро пожаловать на тестовую страницу!\n"
     ]
    }
   ],
   "source": [
    "header:str = element.text\n",
    "print(header)"
   ]
  },
  {
   "cell_type": "code",
   "execution_count": 12,
   "id": "bc9c5818-3562-4395-95c0-aea70b27a639",
   "metadata": {},
   "outputs": [],
   "source": [
    "def get_nav_links(driver: Chrome | Firefox) -> List[Tuple[str, str]]:\n",
    "    \"\"\"\n",
    "    Получает URL и текст ссылок из блока nav.\n",
    "\n",
    "    Args:\n",
    "        driver: Экземпляр веб-драйвера Selenium.\n",
    "\n",
    "    Returns:\n",
    "        Список кортежей, содержащих URL и текст каждой ссылки в блоке nav.\n",
    "        Возвращает пустой список, если блок nav не найден или произошла ошибка.\n",
    "    \"\"\"\n",
    "    try:\n",
    "        links: List[WebElement] = driver.find_elements(By.CSS_SELECTOR, \"nav a\")\n",
    "        return [(link.get_attribute(\"href\"), link.text) for link in links]\n",
    "    except Exception:\n",
    "        return []\n",
    "\n",
    "nav_links:List = get_nav_links(driver)"
   ]
  },
  {
   "cell_type": "code",
   "execution_count": 13,
   "id": "9db65887-a9e2-4f8e-a853-f28be57f77f5",
   "metadata": {},
   "outputs": [
    {
     "name": "stdout",
     "output_type": "stream",
     "text": [
      "[('https://www.example.com/', 'Главная'), ('https://davidka.net/examples/selenium/example_1.html#', 'О нас')]\n"
     ]
    }
   ],
   "source": [
    "print(nav_links)"
   ]
  },
  {
   "cell_type": "code",
   "execution_count": 16,
   "id": "5bcce883-1cc1-4372-9dca-209bce4fe812",
   "metadata": {},
   "outputs": [],
   "source": [
    "def get_first_paragraph_text(driver: Chrome | Firefox) -> Optional[str]:\n",
    "    \"\"\"\n",
    "    Получает текст первого параграфа.\n",
    "\n",
    "    Args:\n",
    "        driver: Экземпляр веб-драйвера Selenium.\n",
    "\n",
    "    Returns:\n",
    "        Текст первого параграфа, или None, если параграф не найден или произошла ошибка.\n",
    "    \"\"\"\n",
    "    try:\n",
    "        element: WebElement = driver.find_element(By.ID, \"firstParagraph\")\n",
    "        return element.text\n",
    "    except Exception:\n",
    "        return None\n",
    "first_paragraph_text:str = get_first_paragraph_text(driver)"
   ]
  },
  {
   "cell_type": "code",
   "execution_count": 17,
   "id": "5cdb1bc2-40ef-4993-9f7b-09c219d48454",
   "metadata": {},
   "outputs": [
    {
     "name": "stdout",
     "output_type": "stream",
     "text": [
      "Это первый параграф с вложенной ссылкой.\n"
     ]
    }
   ],
   "source": [
    "print(first_paragraph_text)"
   ]
  },
  {
   "cell_type": "code",
   "execution_count": null,
   "id": "00a87bdc-7501-465a-b960-9ae0cbf5cb65",
   "metadata": {},
   "outputs": [],
   "source": []
  }
 ],
 "metadata": {
  "kernelspec": {
   "display_name": "Python 3 (ipykernel)",
   "language": "python",
   "name": "python3"
  },
  "language_info": {
   "codemirror_mode": {
    "name": "ipython",
    "version": 3
   },
   "file_extension": ".py",
   "mimetype": "text/x-python",
   "name": "python",
   "nbconvert_exporter": "python",
   "pygments_lexer": "ipython3",
   "version": "3.12.7"
  }
 },
 "nbformat": 4,
 "nbformat_minor": 5
}
