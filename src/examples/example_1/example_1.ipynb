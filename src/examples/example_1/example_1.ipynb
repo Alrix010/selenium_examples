{
 "cells": [
  {
   "cell_type": "code",
   "execution_count": 6,
   "id": "04cb0db5-bf53-4d35-9444-26367ada71dc",
   "metadata": {},
   "outputs": [],
   "source": [
    "from selenium.webdriver import Chrome, Firefox\n",
    "from selenium.webdriver.common.by import By\n",
    "from selenium.webdriver.support.ui import Select\n",
    "from selenium.webdriver.support.ui import WebDriverWait\n",
    "from selenium.webdriver.support import expected_conditions as EC\n",
    "from selenium.webdriver.common.keys import Keys"
   ]
  },
  {
   "cell_type": "code",
   "execution_count": 15,
   "id": "a4958553-6e16-498c-9649-a393867ce08c",
   "metadata": {},
   "outputs": [],
   "source": [
    "driver: Chrome | Firefox = Firefox()"
   ]
  },
  {
   "cell_type": "code",
   "execution_count": 17,
   "id": "b8fd6052-f857-4804-82ae-3dd03a8517f2",
   "metadata": {},
   "outputs": [],
   "source": [
    "url:str = 'https://davidka.net/examples/selenium/example_1.html'\n",
    "driver.get(url)"
   ]
  },
  {
   "cell_type": "code",
   "execution_count": 11,
   "id": "86245786-4b44-48a2-82fa-82315b407e66",
   "metadata": {},
   "outputs": [],
   "source": [
    "element = driver.find_element(By.XPATH, \"//body//header//h1\")"
   ]
  },
  {
   "cell_type": "code",
   "execution_count": 12,
   "id": "4b08206f-6abf-4915-8a3b-ac24319b82ac",
   "metadata": {},
   "outputs": [
    {
     "name": "stdout",
     "output_type": "stream",
     "text": [
      "Добро пожаловать на тестовую страницу!\n"
     ]
    }
   ],
   "source": [
    "print(element.text)"
   ]
  },
  {
   "cell_type": "code",
   "execution_count": null,
   "id": "bc9c5818-3562-4395-95c0-aea70b27a639",
   "metadata": {},
   "outputs": [],
   "source": []
  }
 ],
 "metadata": {
  "kernelspec": {
   "display_name": "Python 3 (ipykernel)",
   "language": "python",
   "name": "python3"
  },
  "language_info": {
   "codemirror_mode": {
    "name": "ipython",
    "version": 3
   },
   "file_extension": ".py",
   "mimetype": "text/x-python",
   "name": "python",
   "nbconvert_exporter": "python",
   "pygments_lexer": "ipython3",
   "version": "3.12.7"
  }
 },
 "nbformat": 4,
 "nbformat_minor": 5
}
