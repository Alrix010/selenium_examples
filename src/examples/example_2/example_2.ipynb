{
 "cells": [
  {
   "cell_type": "markdown",
   "id": "81af5182-26af-4b4e-a792-acfd72d61340",
   "metadata": {},
   "source": [
    "# Примеры интерактивности вебэлементов"
   ]
  },
  {
   "cell_type": "markdown",
   "id": "aeba8bc2-529b-449f-b0d6-9092a4ec5a96",
   "metadata": {},
   "source": [
    "![Alt text](https://github.com/hypo69/selenium_examples/blob/master/assets/example_2/page.png?raw=true)\n",
    "\n",
    "## Полный HTML код:\n",
    "```html\n",
    "<!DOCTYPE html>\n",
    "<html lang=\"ru\">\n",
    "\n",
    "<head>\n",
    "    <meta charset=\"UTF-8\">\n",
    "    <meta name=\"viewport\" content=\"width=device-width, initial-scale=1.0\">\n",
    "    <title>Второй пример страницы для Selenium (Bootstrap)</title>\n",
    "\n",
    "    <!-- Bootstrap CSS -->\n",
    "    <link rel=\"stylesheet\" href=\"https://stackpath.bootstrapcdn.com/bootstrap/4.5.2/css/bootstrap.min.css\">\n",
    "\n",
    "    <style>\n",
    "        body {\n",
    "            font-family: Arial, sans-serif;\n",
    "        }\n",
    "\n",
    "        .hidden {\n",
    "            display: none;\n",
    "        }\n",
    "\n",
    "        /* Класс для скрытия элементов */\n",
    "\n",
    "        /* Добавляем немного отступа между полем и кнопкой */\n",
    "        #clearButton {\n",
    "            margin-left: 5px;\n",
    "        }\n",
    "\n",
    "        .input-group {\n",
    "            display: flex;\n",
    "            align-items: center;\n",
    "            /* Вертикальное выравнивание */\n",
    "        }\n",
    "    </style>\n",
    "</head>\n",
    "\n",
    "<body>\n",
    "\n",
    "    <header class=\"bg-dark text-white py-3\">\n",
    "        <div class=\"container\">\n",
    "            <h1>Тестовая страница для Selenium</h1>\n",
    "            <nav>\n",
    "                <a class=\"text-white\" href=\"#section1\">Раздел 1</a> |\n",
    "                <a class=\"text-white\" href=\"#section2\">Раздел 2</a> |\n",
    "                <a class=\"text-white\" href=\"#section3\">Раздел 3</a> |\n",
    "                <a class=\"text-white\" href=\"#section4\">Раздел 4</a>\n",
    "            </nav>\n",
    "        </div>\n",
    "    </header>\n",
    "\n",
    "    <main class=\"container mt-4\">\n",
    "        <section id=\"section1\" class=\"mb-4\">\n",
    "            <h2>Раздел с полями ввода</h2>\n",
    "\n",
    "            <div class=\"form-group\">\n",
    "                <label for=\"myInput\">Текстовое поле:</label>\n",
    "                <div class=\"input-group\">\n",
    "                    <input type=\"text\" class=\"form-control\" id=\"myInput\" name=\"myInput\" value=\"Начальный текст\">\n",
    "                    <button id=\"clearButton\" class=\"btn btn-outline-secondary\" type=\"button\"\n",
    "                            onclick=\"clearInput()\">\n",
    "                        Очистить\n",
    "                    </button>\n",
    "                </div>\n",
    "            </div>\n",
    "\n",
    "            <div class=\"form-group\">\n",
    "                <label for=\"passwordInput\">Пароль:</label>\n",
    "                <input type=\"password\" class=\"form-control\" id=\"passwordInput\" name=\"passwordInput\">\n",
    "            </div>\n",
    "\n",
    "            <div class=\"form-group\">\n",
    "                <label for=\"emailInput\">Email:</label>\n",
    "                <input type=\"email\" class=\"form-control\" id=\"emailInput\" name=\"emailInput\">\n",
    "            </div>\n",
    "\n",
    "            <div class=\"form-group\">\n",
    "                <label for=\"textareaInput\">Текстовая область:</label>\n",
    "                <textarea class=\"form-control\" id=\"textareaInput\" name=\"textareaInput\" rows=\"4\"></textarea>\n",
    "            </div>\n",
    "\n",
    "\n",
    "        </section>\n",
    "\n",
    "        <section id=\"section2\" class=\"mb-4\">\n",
    "            <h2>Раздел с выпадающим списком и чекбоксами</h2>\n",
    "\n",
    "            <div class=\"form-group\">\n",
    "                <label for=\"mySelect\">Выпадающий список:</label>\n",
    "                <select class=\"form-control\" id=\"mySelect\" name=\"mySelect\">\n",
    "                    <option value=\"option1\">Option 1</option>\n",
    "                    <option value=\"option2\">Option 2</option>\n",
    "                    <option value=\"option3\">Option 3</option>\n",
    "                </select>\n",
    "            </div>\n",
    "\n",
    "            <p>Выберите варианты:</p>\n",
    "            <div class=\"form-check\">\n",
    "                <input class=\"form-check-input\" type=\"checkbox\" name=\"checkbox1\" value=\"check1\" id=\"checkbox1\">\n",
    "                <label class=\"form-check-label\" for=\"checkbox1\">Вариант 1</label>\n",
    "            </div>\n",
    "            <div class=\"form-check\">\n",
    "                <input class=\"form-check-input\" type=\"checkbox\" name=\"checkbox2\" value=\"check2\" id=\"checkbox2\">\n",
    "                <label class=\"form-check-label\" for=\"checkbox2\">Вариант 2</label>\n",
    "            </div>\n",
    "            <div class=\"form-check\">\n",
    "                <input class=\"form-check-input\" type=\"checkbox\" name=\"checkbox3\" value=\"check3\" id=\"checkbox3\">\n",
    "                <label class=\"form-check-label\" for=\"checkbox3\">Вариант 3</label>\n",
    "            </div>\n",
    "        </section>\n",
    "\n",
    "        <section id=\"section3\" class=\"mb-4\">\n",
    "            <h2>Раздел с радиокнопками и кнопкой</h2>\n",
    "\n",
    "            <p>Выберите вариант:</p>\n",
    "            <div class=\"form-check\">\n",
    "                <input class=\"form-check-input\" type=\"radio\" name=\"radioGroup\" value=\"radio1\" id=\"radio1\">\n",
    "                <label class=\"form-check-label\" for=\"radio1\">Вариант 1</label>\n",
    "            </div>\n",
    "            <div class=\"form-check\">\n",
    "                <input class=\"form-check-input\" type=\"radio\" name=\"radioGroup\" value=\"radio2\" id=\"radio2\">\n",
    "                <label class=\"form-check-label\" for=\"radio2\">Вариант 2</label>\n",
    "            </div>\n",
    "            <div class=\"form-check\">\n",
    "                <input class=\"form-check-input\" type=\"radio\" name=\"radioGroup\" value=\"radio3\" id=\"radio3\">\n",
    "                <label class=\"form-check-label\" for=\"radio3\">Вариант 3</label>\n",
    "            </div>\n",
    "\n",
    "            <button id=\"myButton\" class=\"btn btn-success\" onclick=\"showNewElement()\">Нажми меня</button>\n",
    "\n",
    "            <div id=\"newElement\" class=\"hidden mt-3\">\n",
    "                <p>Этот элемент появляется после нажатия кнопки!</p>\n",
    "            </div>\n",
    "        </section>\n",
    "\n",
    "        <section id=\"section4\" class=\"mb-4\">\n",
    "            <h2>Загрузка файла</h2>\n",
    "            <div class=\"form-group\">\n",
    "                <label for=\"fileUpload\">Загрузить файл:</label>\n",
    "                <input type=\"file\" class=\"form-control-file\" id=\"fileUpload\" name=\"fileUpload\">\n",
    "            </div>\n",
    "        </section>\n",
    "\n",
    "        <section id=\"scrollTarget\">\n",
    "            <h2>Прокрутка к элементу</h2>\n",
    "            <p>Этот раздел находится внизу страницы. Selenium прокрутит страницу к этому элементу.</p>\n",
    "        </section>\n",
    "    </main>\n",
    "\n",
    "    <footer class=\"bg-light py-3\">\n",
    "        <div class=\"container\">\n",
    "            <p>© 2023 Тестовая страница для Selenium</p>\n",
    "        </div>\n",
    "    </footer>\n",
    "\n",
    "    <div id=\"scrollToMe\" style=\"margin-top: 1000px;\">\n",
    "        Элемент для прокрутки\n",
    "    </div>\n",
    "\n",
    "    <script src=\"https://code.jquery.com/jquery-3.5.1.slim.min.js\"></script>\n",
    "    <script src=\"https://cdn.jsdelivr.net/npm/@popperjs/core@2.5.3/dist/umd/popper.min.js\"></script>\n",
    "    <script src=\"https://stackpath.bootstrapcdn.com/bootstrap/4.5.2/js/bootstrap.min.js\"></script>\n",
    "\n",
    "    <script>\n",
    "        function showNewElement() {\n",
    "            document.getElementById(\"newElement\").classList.remove(\"hidden\");\n",
    "        }\n",
    "\n",
    "        function clearInput() {\n",
    "            document.getElementById(\"myInput\").value = \"\";\n",
    "        }\n",
    "\n",
    "        function addNewElement() {\n",
    "            const newElement = document.createElement('div');\n",
    "            newElement.id = 'новыйЭлемент';\n",
    "            newElement.textContent = 'Новый элемент, созданный динамически!';\n",
    "            document.body.appendChild(newElement);\n",
    "        }\n",
    "\n",
    "        setTimeout(addNewElement, 3000);\n",
    "\n",
    "        function fillFormWithFakeData() {\n",
    "            const myInput = document.getElementById('myInput');\n",
    "            const passwordInput = document.getElementById('passwordInput');\n",
    "            const emailInput = document.getElementById('emailInput');\n",
    "            const textareaInput = document.getElementById('textareaInput');\n",
    "\n",
    "            const loremIpsum = \"Lorem ipsum dolor sit amet, consectetur adipiscing elit. Sed do eiusmod tempor incididunt ut labore et dolore magna aliqua. Ut enim ad minim veniam, quis nostrud exercitation ullamco laboris nisi ut aliquip ex ea commodo consequat. Duis aute irure dolor in reprehenderit in voluptate velit esse cillum dolore eu fugiat nulla pariatur.\";\n",
    "\n",
    "            myInput.value = \"Фейковое имя\";\n",
    "            passwordInput.value = \"FakePassword123!\";\n",
    "            emailInput.value = \"fake.email@example.com\";\n",
    "            textareaInput.value = loremIpsum;\n",
    "        }\n",
    "\n",
    "        window.onload = fillFormWithFakeData;\n",
    "    </script>\n",
    "</body>\n",
    "\n",
    "</html>\n",
    "```"
   ]
  },
  {
   "cell_type": "code",
   "execution_count": 5,
   "id": "870bb45b-4ebc-4ccb-b05d-27b51b92e518",
   "metadata": {},
   "outputs": [],
   "source": [
    "from selenium import webdriver\n",
    "from selenium.webdriver.common.by import By\n",
    "from selenium.webdriver.remote.webdriver import WebDriver\n",
    "from selenium.webdriver.remote.webelement import WebElement\n",
    "from selenium.webdriver.support.ui import Select\n",
    "from selenium.webdriver.support.ui import WebDriverWait\n",
    "from selenium.webdriver.support import expected_conditions as EC\n",
    "from selenium.webdriver.common.keys import Keys\n",
    "from typing import Optional\n",
    "import time"
   ]
  },
  {
   "cell_type": "code",
   "execution_count": 6,
   "id": "93179357-e059-4098-a30a-9aed40814c3b",
   "metadata": {},
   "outputs": [],
   "source": [
    "driver: WebDriver = webdriver.Firefox()"
   ]
  },
  {
   "cell_type": "markdown",
   "id": "49a1a582-f1cf-4bc7-b1f8-41494b578427",
   "metadata": {},
   "source": [
    "## selenium может работать с url страницы или локальным файлом"
   ]
  },
  {
   "cell_type": "code",
   "execution_count": 10,
   "id": "c1f50820-9879-4adc-a02f-be865747b220",
   "metadata": {},
   "outputs": [],
   "source": [
    "\n",
    "url: str = \"https://davidka.net/examples/selenium/example_2.html\" \n",
    "html_file_path: str = r\"file:///C:\\Users\\user\\Documents\\repos\\public_repositories\\selenium_examples\\src\\examples\\example_2\\html\\example_2.html\" \n",
    "\n",
    "driver.get(html_file_path)"
   ]
  },
  {
   "cell_type": "code",
   "execution_count": 13,
   "id": "4c71b75b-e10a-41db-b7ba-32cad299452e",
   "metadata": {},
   "outputs": [
    {
     "name": "stdout",
     "output_type": "stream",
     "text": [
      "Исходное значение поля myInput: \n",
      "Новое значение поля myInput: Новый текст, введенный Selenium\n"
     ]
    }
   ],
   "source": [
    "# 1. Взаимодействие с текстовым полем (myInput)\n",
    "input_field: WebElement = driver.find_element(By.ID, \"myInput\")\n",
    "print(f\"Исходное значение поля myInput: {input_field.get_attribute('value')}\")\n",
    "input_field.clear()\n",
    "input_field.send_keys(\"Новый текст, введенный Selenium\")\n",
    "print(f\"Новое значение поля myInput: {input_field.get_attribute('value')}\")"
   ]
  },
  {
   "cell_type": "code",
   "execution_count": 12,
   "id": "faac2ca3-3b9b-4bd6-9fec-d5079b130b60",
   "metadata": {},
   "outputs": [
    {
     "name": "stdout",
     "output_type": "stream",
     "text": [
      "Значение поля myInput после нажатия 'Очистить': \n"
     ]
    }
   ],
   "source": [
    "# Нажатие на кнопку \"Очистить\" (clearButton)\n",
    "clear_button: WebElement = driver.find_element(By.ID, \"clearButton\")\n",
    "clear_button.click()\n",
    "print(f\"Значение поля myInput после нажатия 'Очистить': {input_field.get_attribute('value')}\")"
   ]
  },
  {
   "cell_type": "code",
   "execution_count": 14,
   "id": "ea34159a-8f92-46b5-bbc7-8b1d44f9bacd",
   "metadata": {},
   "outputs": [
    {
     "name": "stdout",
     "output_type": "stream",
     "text": [
      "В поле пароля введен текст (скрытый)\n"
     ]
    }
   ],
   "source": [
    "# 2. Взаимодействие с полем пароля (passwordInput)\n",
    "password_field: WebElement = driver.find_element(By.ID, \"passwordInput\")\n",
    "password_field.send_keys(\"MySecretPassword\")\n",
    "print(\"В поле пароля введен текст (скрытый)\")"
   ]
  },
  {
   "cell_type": "code",
   "execution_count": 16,
   "id": "538cd9d0-77d2-4273-b7a8-82bad94b9daf",
   "metadata": {},
   "outputs": [
    {
     "name": "stdout",
     "output_type": "stream",
     "text": [
      "В поле email введен текст\n"
     ]
    }
   ],
   "source": [
    "# 3. Взаимодействие с полем email (emailInput)\n",
    "email_field: WebElement = driver.find_element(By.ID, \"emailInput\")\n",
    "email_field.clear()\n",
    "email_field.send_keys(\"test@example.com\")\n",
    "print(\"В поле email введен текст\")"
   ]
  },
  {
   "cell_type": "code",
   "execution_count": 17,
   "id": "27012682-025f-41f3-95ba-c15f7bb365f4",
   "metadata": {},
   "outputs": [
    {
     "name": "stdout",
     "output_type": "stream",
     "text": [
      "В текстовую область введен текст\n"
     ]
    }
   ],
   "source": [
    "# 4. Взаимодействие с текстовой областью (textareaInput)\n",
    "textarea_field: WebElement = driver.find_element(By.ID, \"textareaInput\")\n",
    "textarea_field.clear()\n",
    "textarea_field.send_keys(\"Текст, введенный в текстовую область через Selenium.\\nМногострочный текст.\")\n",
    "print(\"В текстовую область введен текст\")"
   ]
  },
  {
   "cell_type": "markdown",
   "id": "31f89d71-e9bb-4503-ae81-1da0517339a0",
   "metadata": {},
   "source": [
    "---\n",
    "# 5. Выбор значения из выпадающего списка (mySelect)\n",
    "```html\n",
    "            <div class=\"form-group\">\n",
    "                <label for=\"mySelect\">Выпадающий список:</label>\n",
    "                <select class=\"form-control\" id=\"mySelect\" name=\"mySelect\">\n",
    "                    <option value=\"option1\">Option 1</option>\n",
    "                    <option value=\"option2\">Option 2</option>\n",
    "                    <option value=\"option3\">Option 3</option>\n",
    "                </select>\n",
    "            </div>\n",
    "```"
   ]
  },
  {
   "cell_type": "code",
   "execution_count": 21,
   "id": "51c815fe-f505-44c2-9d52-af39a10a5a9c",
   "metadata": {},
   "outputs": [
    {
     "name": "stdout",
     "output_type": "stream",
     "text": [
      "В выпадающем списке выбран Option 2\n"
     ]
    }
   ],
   "source": [
    "\n",
    "select_element: WebElement = driver.find_element(By.ID, \"mySelect\")\n",
    "select: Select = Select(select_element)\n",
    "select.select_by_value(\"option2\")\n",
    "print(\"В выпадающем списке выбран Option 2\")"
   ]
  },
  {
   "cell_type": "code",
   "execution_count": 22,
   "id": "6c129f0e-3275-4f31-97cf-bc4c199c49a3",
   "metadata": {},
   "outputs": [],
   "source": [
    "def select_option_by_text(driver: WebDriver, select_id: str, option_text: str) -> None:\n",
    "    \"\"\"\n",
    "    Выбирает опцию из выпадающего списка по видимому тексту.\n",
    "\n",
    "    Args:\n",
    "        driver: Экземпляр веб-драйвера Selenium.\n",
    "        select_id: ID элемента <select>.\n",
    "        option_text: Текст опции, которую нужно выбрать.\n",
    "    \"\"\"\n",
    "    try:\n",
    "        select_element: WebElement = driver.find_element(By.ID, select_id)\n",
    "        select: Select = Select(select_element)\n",
    "        select.select_by_visible_text(option_text)\n",
    "        print(f\"В выпадающем списке с ID '{select_id}' выбрана опция с текстом '{option_text}'\")\n",
    "    except Exception as e:\n",
    "        print(f\"Ошибка при выборе опции по тексту: {e}\")"
   ]
  },
  {
   "cell_type": "code",
   "execution_count": 23,
   "id": "81ea3c07-6e2c-4983-9788-efe05058ce79",
   "metadata": {},
   "outputs": [
    {
     "name": "stdout",
     "output_type": "stream",
     "text": [
      "В выпадающем списке с ID 'mySelect' выбрана опция с текстом 'Option 2'\n"
     ]
    }
   ],
   "source": [
    "select_option_by_text(driver, \"mySelect\", \"Option 2\")"
   ]
  },
  {
   "cell_type": "markdown",
   "id": "19e28551-c89b-42db-b1e9-4c051d0a8dad",
   "metadata": {},
   "source": [
    "# 6. Установка и снятие флажков (checkbox1, checkbox2)"
   ]
  },
  {
   "cell_type": "code",
   "execution_count": null,
   "id": "9e7fb4c5-d319-4b80-903a-29d788ddfe84",
   "metadata": {},
   "outputs": [],
   "source": [
    "\n",
    "checkbox1: WebElement = driver.find_element(By.ID, \"checkbox1\")\n",
    "checkbox2: WebElement = driver.find_element(By.ID, \"checkbox2\")\n",
    "\n",
    "if not checkbox1.is_selected():\n",
    "    checkbox1.click()\n",
    "    print(\"Чекбокс 1 установлен\")\n",
    "else:\n",
    "    print(\"Чекбокс 1 уже установлен\")\n",
    "\n",
    "if checkbox2.is_selected():\n",
    "    checkbox2.click()\n",
    "    print(\"Чекбокс 2 снят\")\n",
    "else:\n",
    "    print(\"Чекбокс 2 уже снят\")"
   ]
  }
 ],
 "metadata": {
  "kernelspec": {
   "display_name": "Python 3 (ipykernel)",
   "language": "python",
   "name": "python3"
  },
  "language_info": {
   "codemirror_mode": {
    "name": "ipython",
    "version": 3
   },
   "file_extension": ".py",
   "mimetype": "text/x-python",
   "name": "python",
   "nbconvert_exporter": "python",
   "pygments_lexer": "ipython3",
   "version": "3.12.7"
  }
 },
 "nbformat": 4,
 "nbformat_minor": 5
}
