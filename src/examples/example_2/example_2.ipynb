{
 "cells": [
  {
   "cell_type": "code",
   "execution_count": 1,
   "id": "223f2c90-3d07-4f41-893a-d6ea303b1077",
   "metadata": {},
   "outputs": [],
   "source": [
    "from selenium.webdriver import Chrome, Firefox\n",
    "from selenium.webdriver.common.by import By\n",
    "from selenium.webdriver.support.ui import Select\n",
    "from selenium.webdriver.support.ui import WebDriverWait\n",
    "from selenium.webdriver.support import expected_conditions as EC\n",
    "from selenium.webdriver.common.keys import Keys"
   ]
  },
  {
   "cell_type": "code",
   "execution_count": 2,
   "id": "81febbc4-5c87-4f2d-8361-8293b771d0c6",
   "metadata": {},
   "outputs": [],
   "source": [
    "driver: Chrome | Firefox = Firefox()\n"
   ]
  },
  {
   "cell_type": "code",
   "execution_count": 3,
   "id": "20f84e64-eb1c-4ade-a898-a3f7e2af7bcc",
   "metadata": {},
   "outputs": [],
   "source": [
    "url:str = 'https://davidka.net/examples/selenium/example_2.html'\n",
    "driver.get(url)"
   ]
  },
  {
   "cell_type": "code",
   "execution_count": 4,
   "id": "c294d7b1-10f9-498a-826b-24d58c7dd1ad",
   "metadata": {},
   "outputs": [],
   "source": [
    "def execute_locator(by:By, locator:str):\n",
    "    \"\"\"Функция - исполнитель локаторов\"\"\"\n",
    "    try:\n",
    "        return driver.find_element(by, locator)\n",
    "    except Exception as ex:\n",
    "        print(f'Ошибка обнаружения элемента локатором {ex}')\n",
    "        return\n",
    "    "
   ]
  },
  {
   "cell_type": "markdown",
   "id": "e33f66ad-bf62-4f56-8d9a-f2f440e8fb32",
   "metadata": {},
   "source": [
    "### Заголовок страницы `Тестовая страница для Selenium`\n",
    "[image](../../../assets//example_1/1.jpg)"
   ]
  },
  {
   "cell_type": "code",
   "execution_count": 7,
   "id": "aba8099e-4b8f-482a-b5cb-701921faf93e",
   "metadata": {},
   "outputs": [
    {
     "name": "stdout",
     "output_type": "stream",
     "text": [
      "Тестовая страница для Selenium\n"
     ]
    }
   ],
   "source": [
    "locator = '//header/div/h1'\n",
    "title = execute_locator(By.XPATH, locator)\n",
    "\n",
    "if not element:\n",
    "    title('Не вернулся элемент')\n",
    "else:\n",
    "    print(element.text)"
   ]
  },
  {
   "cell_type": "markdown",
   "id": "bc3f5f68-a261-4d1e-824d-8551d961d3bc",
   "metadata": {},
   "source": [
    "### Навигация ` Раздел 1 | Раздел 2 | Раздел 3 | Раздел 4`"
   ]
  },
  {
   "cell_type": "code",
   "execution_count": 6,
   "id": "83439bca-7b9c-42c8-a406-e23088f9542b",
   "metadata": {},
   "outputs": [
    {
     "ename": "NameError",
     "evalue": "name 'block_navigation' is not defined",
     "output_type": "error",
     "traceback": [
      "\u001b[1;31m---------------------------------------------------------------------------\u001b[0m",
      "\u001b[1;31mNameError\u001b[0m                                 Traceback (most recent call last)",
      "Cell \u001b[1;32mIn[6], line 1\u001b[0m\n\u001b[1;32m----> 1\u001b[0m block_navigation\n",
      "\u001b[1;31mNameError\u001b[0m: name 'block_navigation' is not defined"
     ]
    }
   ],
   "source": [
    "locator = '//header/div/h1' "
   ]
  },
  {
   "cell_type": "code",
   "execution_count": null,
   "id": "6358dade-11be-443b-97ed-28e5841488cd",
   "metadata": {},
   "outputs": [],
   "source": []
  }
 ],
 "metadata": {
  "kernelspec": {
   "display_name": "Python 3 (ipykernel)",
   "language": "python",
   "name": "python3"
  },
  "language_info": {
   "codemirror_mode": {
    "name": "ipython",
    "version": 3
   },
   "file_extension": ".py",
   "mimetype": "text/x-python",
   "name": "python",
   "nbconvert_exporter": "python",
   "pygments_lexer": "ipython3",
   "version": "3.12.7"
  }
 },
 "nbformat": 4,
 "nbformat_minor": 5
}
